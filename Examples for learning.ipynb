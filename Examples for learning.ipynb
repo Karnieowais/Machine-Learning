{
 "cells": [
  {
   "cell_type": "code",
   "execution_count": 9,
   "metadata": {},
   "outputs": [
    {
     "name": "stdout",
     "output_type": "stream",
     "text": [
      "Enter the string to check for pallendrome  : madam\n",
      "The string 'madam' is pallendrone...!\n"
     ]
    }
   ],
   "source": [
    "#....Check whether the string is PALLENDROM\n",
    "\n",
    "string = input(\"Enter the string to check for pallendrome  : \")\n",
    "\n",
    "if string == string[::-1]:\n",
    "    print(\"The string '%s' is pallendrome...!\" % string)\n",
    "    \n",
    "else:\n",
    "    print(\"The string  '%s' is not pallendrome.....\" % string)"
   ]
  },
  {
   "cell_type": "code",
   "execution_count": 11,
   "metadata": {},
   "outputs": [
    {
     "name": "stdout",
     "output_type": "stream",
     "text": [
      "Enter the number : 234\n",
      "The Numbe '234' is not Pallendromme...\n"
     ]
    }
   ],
   "source": [
    "#....Check whether the number is PALLENDROM or not\n",
    "\n",
    "num = int(input(\"Enter the number : \"))\n",
    "\n",
    "temp = num\n",
    "rev = 0\n",
    "while(num>0):\n",
    "    dig = num % 10\n",
    "    rev = rev * 10 + dig\n",
    "    num = num//10\n",
    "    \n",
    "if(temp == rev):\n",
    "    print(\"The Number '%d' is pallendrom...!\" % temp)\n",
    "    \n",
    "else:\n",
    "    print(\"The Numbe '%d' is not Pallendromme...\" % temp)"
   ]
  },
  {
   "cell_type": "code",
   "execution_count": 25,
   "metadata": {},
   "outputs": [
    {
     "name": "stdout",
     "output_type": "stream",
     "text": [
      "Enter the number: 12\n",
      "the number '1' is not prime....!\n",
      "the number '2' is not prime....!\n",
      "the number '3' is not prime....!\n",
      "the number '4' is not prime....!\n",
      "The number '5' is prime.....!\n"
     ]
    }
   ],
   "source": [
    "#.....Check if the number is prime or not\n",
    "\n",
    "\n",
    "num = int(input(\"Enter the number: \"))\n",
    "\n",
    "for i in range(1,num // 2):\n",
    "    if num % i == 0:\n",
    "        print(\"the number '%d' is not prime....!\" % i)\n",
    "        \n",
    "    else:\n",
    "        print(\"The number '%d' is prime.....!\" % i)\n",
    "        "
   ]
  },
  {
   "cell_type": "code",
   "execution_count": 50,
   "metadata": {},
   "outputs": [
    {
     "name": "stdout",
     "output_type": "stream",
     "text": [
      "the GCD of 30 and 55 is :  5\n"
     ]
    }
   ],
   "source": [
    "#......find the Greatest Common Divisor of two numbers(recursion method)\n",
    "def g_c_d(a,b):\n",
    "    if(b==0):\n",
    "        return a\n",
    "\n",
    "    else:\n",
    "        return g_c_d(b,a%b)\n",
    "\n",
    "print(\"the GCD of 30 and 55 is : \", g_c_d(30,55))\n",
    "#print(g_c_d(30,55))"
   ]
  },
  {
   "cell_type": "code",
   "execution_count": 57,
   "metadata": {},
   "outputs": [
    {
     "name": "stdout",
     "output_type": "stream",
     "text": [
      "the GCD of two numbers is :  10\n"
     ]
    }
   ],
   "source": [
    "#.....find the GCD(LOOP method)\n",
    "\n",
    "def compute_gcd(x,y):\n",
    "    if x > y:\n",
    "        smaller = y\n",
    "    else:\n",
    "        smaller = x\n",
    "            \n",
    "    for i in range(1,smaller+1):\n",
    "        if((x%i == 0) and (y%i == 0)):\n",
    "            gcd = i\n",
    "    return gcd\n",
    "        \n",
    "print(\"the GCD of two numbers is : \", compute_gcd(10,20) )"
   ]
  },
  {
   "cell_type": "code",
   "execution_count": 60,
   "metadata": {},
   "outputs": [
    {
     "name": "stdout",
     "output_type": "stream",
     "text": [
      "the GCD of two numbers is :  8\n"
     ]
    }
   ],
   "source": [
    "#......GCD of two numbers(Euclidean method)\n",
    "def gcd(x,y):\n",
    "    while(y):\n",
    "        x,y = y, x%y\n",
    "        \n",
    "    return x\n",
    "\n",
    "print(\"the GCD of two numbers is : \", gcd(8,40))\n"
   ]
  },
  {
   "cell_type": "code",
   "execution_count": 61,
   "metadata": {},
   "outputs": [
    {
     "name": "stdout",
     "output_type": "stream",
     "text": [
      "8\n"
     ]
    }
   ],
   "source": [
    "#.....GCD of two numbers(inbuilt methods)\n",
    "import math\n",
    "print(math.gcd(8,40))"
   ]
  },
  {
   "cell_type": "code",
   "execution_count": 121,
   "metadata": {},
   "outputs": [
    {
     "name": "stdout",
     "output_type": "stream",
     "text": [
      "['Owais', 'Ifat', 'Ishfaq']\n",
      "\n",
      "\n",
      "------------------\n",
      "Owais,Ifat,Ishfaq\n",
      "\n",
      "\n",
      "------------------\n",
      "Owais\n",
      "Ifat\n",
      "Ishfaq\n"
     ]
    }
   ],
   "source": [
    "#....Convert the list into string...\n",
    "\n",
    "list = ['Owais', 'Ifat', 'Ishfaq' ]\n",
    "print(list)\n",
    "print('\\n')\n",
    "print(\"------------------\")\n",
    "\n",
    "print(','.join(list))\n",
    "print(\"\\n\")\n",
    "print(\"------------------\")\n",
    "\n",
    "print('\\n'.join(list))"
   ]
  },
  {
   "cell_type": "code",
   "execution_count": null,
   "metadata": {},
   "outputs": [],
   "source": []
  },
  {
   "cell_type": "code",
   "execution_count": 64,
   "metadata": {},
   "outputs": [
    {
     "name": "stdout",
     "output_type": "stream",
     "text": [
      "[100, 103, 200, 240, 290]\n"
     ]
    }
   ],
   "source": [
    "list2 = [100,103,200,240,290]\n",
    "print(list2)\n",
    "\n",
    "print(str(list2).strip('[]'))\n",
    "\n",
    "Str_list2 = str(list2).strip('[]')\n",
    "Str_list2\n",
    "\n",
    "Str_list2 = str(list2).strip()[1:-1]\n",
    "Str_list2\n",
    "\n",
    "Str_name = print('\\n'.join(list))\n",
    "\n",
    "print('\\n'.join((map(str,list))))"
   ]
  },
  {
   "cell_type": "code",
   "execution_count": null,
   "metadata": {},
   "outputs": [],
   "source": [
    "names = ['owais', 'is', 'his', 'friend']\n",
    "file = open('output.txt', 'w')\n",
    "file.write(' '.join([str(elem) for elem in names]))\n",
    "#file.close()\n",
    "\n",
    "file = open('output.txt','r')\n",
    "file.read(output.txt)\n",
    "\n",
    "\n",
    "\n",
    "\n",
    "string_int_list = [\"This\",\"is\",\"a\",\"Sample\",\"Program\",\"in\",\"Edureka\"]\n",
    "file1 = open(\"output1.txt\",\"w\")\n",
    "file1.write('n '.join([str(elem) for elem in string_int_list]))\n",
    "file1.close()\n",
    "\n",
    "file2 = open(\"output1.txt\",\"r\")\n",
    "file2.read(outpu1.txt)"
   ]
  },
  {
   "cell_type": "code",
   "execution_count": null,
   "metadata": {},
   "outputs": [],
   "source": [
    "a = int(input(\"Enter a number : \"))\n",
    "f=0\n",
    "s=1\n",
    "\n",
    "if a<=0:\n",
    "    print(\"the requested series is \", a)\n",
    "else:\n",
    "    print(f,s,end=\"\")\n",
    "    for x in range(2,a):\n",
    "        next = f+s\n",
    "        print(next,end=\" \")\n",
    "        #print('')\n",
    "        f=s\n",
    "        s=next"
   ]
  },
  {
   "cell_type": "code",
   "execution_count": null,
   "metadata": {},
   "outputs": [],
   "source": [
    "def fab(n):\n",
    "    if n <=1:\n",
    "        return n\n",
    "    else:\n",
    "        return (n-1) + (n-2)\n",
    "    \n",
    "    \n",
    "items = int(input())\n",
    "\n",
    "if items <= 0:\n",
    "    print(\"Please enter some positive Integer ....!\")\n",
    "    \n",
    "else:\n",
    "    print(\"Fabnoic series\")\n",
    "    for i in range(items):\n",
    "        print(fab(i))\n"
   ]
  },
  {
   "cell_type": "code",
   "execution_count": 7,
   "metadata": {},
   "outputs": [
    {
     "name": "stdout",
     "output_type": "stream",
     "text": [
      "Enter the Year : 1983\n",
      "the year is not leap....!\n"
     ]
    }
   ],
   "source": [
    "#......To find wheather a Year is leap or not\n",
    "\n",
    "year = int(input(\"Enter the Year : \"))\n",
    "if (year % 4 == 0) and (year % 100 != 0):\n",
    "    print(\"Year is leap....!\")\n",
    "    \n",
    "elif (year % 100 == 0 ) and (year % 400 != 0):\n",
    "    print(\"the year is not leap....!\")\n",
    "    \n",
    "else:\n",
    "    print(\"the year is not leap....!\")\n"
   ]
  },
  {
   "cell_type": "code",
   "execution_count": 6,
   "metadata": {},
   "outputs": [
    {
     "name": "stdout",
     "output_type": "stream",
     "text": [
      "Enter the Year : 2008\n",
      "The year 2008 is Leap (By second if statement....!\n"
     ]
    }
   ],
   "source": [
    "#.......To find whearther a number is leap or not\n",
    "\n",
    "Year = int(input(\"Enter the Year : \"))\n",
    "\n",
    "if(Year % 4 == 0 ):\n",
    "    if(Year % 100 ==0):\n",
    "        if(Year % 400 ==0):\n",
    "            print(\"The Year is leap (By 3rd if statement...!\" % Year)\n",
    "            \n",
    "        else:\n",
    "            print(\"The %d is not Leap(By 3rd if statement....!\" % Year)\n",
    "            \n",
    "    else:\n",
    "        print(\"The year %d is Leap (By second if statement....!\" % Year)\n",
    "        \n",
    "else:\n",
    "    print(\"The %d is not Leap(By Ist if statement.....!\" % Year)"
   ]
  },
  {
   "cell_type": "code",
   "execution_count": 1,
   "metadata": {},
   "outputs": [
    {
     "name": "stdout",
     "output_type": "stream",
     "text": [
      "Enter the Number to reverse :12345\n",
      "The reverse of 12345 is : 54321\n"
     ]
    }
   ],
   "source": [
    "#....... Revese the given Number \n",
    "\n",
    "num = int(input(\"Enter the Number to reverse :\"))\n",
    "original_value = num\n",
    "temp = 0\n",
    "\n",
    "while(num > 0):\n",
    "    reminder = num % 10\n",
    "    temp = (temp * 10) + reminder\n",
    "    num = num // 10\n",
    "    \n",
    "print(\"The reverse of {} is : {}\" .format(original_value, temp))"
   ]
  },
  {
   "cell_type": "code",
   "execution_count": 7,
   "metadata": {},
   "outputs": [
    {
     "name": "stdout",
     "output_type": "stream",
     "text": [
      "Enter the Number : 12345\n",
      "The Reverse of 12345 is 54321 : \n"
     ]
    }
   ],
   "source": [
    "#....Reverse of a number using recursion\n",
    "num = int(input(\"Enter the Number : \"))\n",
    "temp = 0\n",
    "\n",
    "def Reverse(num):\n",
    "    global temp\n",
    "    if(num > 0):\n",
    "        reminder = num % 10\n",
    "        temp = (temp * 10) + reminder\n",
    "        Reverse(num // 10)\n",
    "        \n",
    "    return temp\n",
    "temp = Reverse(num)\n",
    "print(\"The Reverse of {} is {} : \" .format(num, temp))"
   ]
  },
  {
   "cell_type": "code",
   "execution_count": 17,
   "metadata": {},
   "outputs": [
    {
     "ename": "SyntaxError",
     "evalue": "'break' outside loop (<ipython-input-17-f935a8bf66be>, line 39)",
     "output_type": "error",
     "traceback": [
      "\u001b[1;36m  File \u001b[1;32m\"<ipython-input-17-f935a8bf66be>\"\u001b[1;36m, line \u001b[1;32m39\u001b[0m\n\u001b[1;33m    while True:\u001b[0m\n\u001b[1;37m               ^\u001b[0m\n\u001b[1;31mSyntaxError\u001b[0m\u001b[1;31m:\u001b[0m 'break' outside loop\n"
     ]
    }
   ],
   "source": [
    "#.....Linked List implementation\n",
    "\n",
    "class Node:\n",
    "    \n",
    "    def __init__(self, data):\n",
    "        self.data = data\n",
    "        self.next = None\n",
    "        \n",
    "        \n",
    "class LinkedList:\n",
    "    \n",
    "    \n",
    "    def __init__(self):\n",
    "        self.head = None\n",
    "        \n",
    "    def insert(self, newnode):\n",
    "        if self.head is None:\n",
    "            self.head = newnode\n",
    "            \n",
    "        else:\n",
    "            \n",
    "            lastnode = self.head\n",
    "            while True:\n",
    "                if lastnode.next is None:\n",
    "                    break\n",
    "                    \n",
    "                lastnode = lastnode.next\n",
    "                \n",
    "            lastnode.next = newnode\n",
    "        \n",
    "        \n",
    "        \n",
    "    def printlist(self):\n",
    "        if self.head is None:\n",
    "            print(\"The Linked List is empty...!\")\n",
    "            break\n",
    "            \n",
    "        currentnode = self.head\n",
    "        while True:\n",
    "            if currentnode is None:\n",
    "                break\n",
    "                \n",
    "            print(currentnode.data)\n",
    "            currentnode = currentnode.next\n",
    "            \n",
    "            \n",
    "            \n",
    "            \n",
    "firstnode = Node(\"Owais\")\n",
    "linkedlist = LinkedList()\n",
    "            \n",
    "linkedlist.insert(firstnode)        \n",
    "secondnode = Node(\"Shabir\")\n",
    "linkedlist.insert(secondnode)\n",
    "    "
   ]
  },
  {
   "cell_type": "code",
   "execution_count": 21,
   "metadata": {},
   "outputs": [],
   "source": [
    "import pandas as pd\n",
    "import numpy as np\n",
    "import matplotlib.pyplot as plt\n",
    "%matplotlib inline"
   ]
  },
  {
   "cell_type": "code",
   "execution_count": 34,
   "metadata": {},
   "outputs": [
    {
     "data": {
      "text/plain": [
       "Text(0, 0.5, 'Y-Axes')"
      ]
     },
     "execution_count": 34,
     "metadata": {},
     "output_type": "execute_result"
    },
    {
     "data": {
      "image/png": "[encoded data removed]",
      "text/plain": [
       "<Figure size 432x288 with 1 Axes>"
      ]
     },
     "metadata": {
      "needs_background": "light"
     },
     "output_type": "display_data"
    }
   ],
   "source": [
    "data = pd.read_csv('data.csv')\n",
    "\n",
    "x = data.iloc[:,0]\n",
    "y = data.iloc[:,1]\n",
    "\n",
    "plt.scatter(x,y)\n",
    "plt.xlabel('X-Axes')\n",
    "plt.ylabel(\"Y-Axes\")"
   ]
  },
  {
   "cell_type": "code",
   "execution_count": 46,
   "metadata": {},
   "outputs": [
    {
     "name": "stdout",
     "output_type": "stream",
     "text": [
      "0      2006.12\n",
      "1      2007.01\n",
      "2      2007.02\n",
      "3      2007.03\n",
      "4      2007.04\n",
      "        ...   \n",
      "218    2012.08\n",
      "219    2012.09\n",
      "220    2012.10\n",
      "221    2012.11\n",
      "222        NaN\n",
      "Name: 2006.11, Length: 223, dtype: float64\n"
     ]
    }
   ],
   "source": [
    "\n",
    "print(x)"
   ]
  },
  {
   "cell_type": "code",
   "execution_count": 47,
   "metadata": {},
   "outputs": [
    {
     "name": "stdout",
     "output_type": "stream",
     "text": [
      "nan nan\n"
     ]
    }
   ],
   "source": [
    "c = 0\n",
    "m = 0\n",
    "L = 0.0001\n",
    "epochs = 1000\n",
    "\n",
    "n = float(len(x))\n",
    "\n",
    "for i in range(epochs):\n",
    "\n",
    "    Y_pred = m * x + c\n",
    "\n",
    "\n",
    "\n",
    "    D_M = (1/n) * sum(x * (y - Y_pred))\n",
    "    D_C = (1/n) * sum(y - Y_pred)\n",
    "\n",
    "    m = m- L * D_M\n",
    "    c = c- L * D_C\n",
    "\n",
    "print(m,c)\n"
   ]
  },
  {
   "cell_type": "code",
   "execution_count": 44,
   "metadata": {},
   "outputs": [
    {
     "data": {
      "image/png": "[encoded data removed]",
      "text/plain": [
       "<Figure size 432x288 with 1 Axes>"
      ]
     },
     "metadata": {
      "needs_background": "light"
     },
     "output_type": "display_data"
    }
   ],
   "source": [
    "Y_pred = m*x + c\n",
    "\n",
    "plt.scatter(x, y) \n",
    "plt.plot([min(x), max(x)], [min(Y_pred), max(Y_pred)], color='red')  # regression line\n",
    "plt.show()"
   ]
  },
  {
   "cell_type": "code",
   "execution_count": 50,
   "metadata": {},
   "outputs": [
    {
     "name": "stdout",
     "output_type": "stream",
     "text": [
      "nan nan\n"
     ]
    }
   ],
   "source": [
    "# Building the model\n",
    "m = 1\n",
    "c = 1\n",
    "\n",
    "L = 0.01  # The learning Rate\n",
    "epochs = 1000  # The number of iterations to perform gradient descent\n",
    "\n",
    "n = float(len(x)) # Number of elements in X\n",
    "\n",
    "# Performing Gradient Descent \n",
    "for i in range(epochs): \n",
    "    Y_pred = m*x + c  # The current predicted value of Y\n",
    "    D_m = (-2/n) * sum(x * (x - Y_pred))  # Derivative wrt m\n",
    "    D_c = (-2/n) * sum(y - Y_pred)  # Derivative wrt c\n",
    "    m = m - L * D_m  # Update m\n",
    "    c = c - L * D_c  # Update c\n",
    "    \n",
    "print (m, c)"
   ]
  },
  {
   "cell_type": "code",
   "execution_count": 8,
   "metadata": {},
   "outputs": [
    {
     "name": "stdout",
     "output_type": "stream",
     "text": [
      "Twinkle, teinkle, little star. \n",
      "\t how are wonder what you are \n",
      "\t\t up above the what so high \n",
      "\t\t like a diamond in the sky \n",
      " Twinkle, teinkle, little star.\n",
      "\t how are wonder what you are\n"
     ]
    }
   ],
   "source": [
    "print(\"Twinkle, teinkle, little star. \\n\\t how are wonder what you are \\n\\t\\t up above the what so high \\n\\t\\t like a diamond in the sky \\n Twinkle, teinkle, little star.\\n\\t how are wonder what you are\")"
   ]
  },
  {
   "cell_type": "code",
   "execution_count": 13,
   "metadata": {},
   "outputs": [
    {
     "name": "stdout",
     "output_type": "stream",
     "text": [
      "The version of python is ------\n",
      " 3.7.3 (default, Mar 27 2019, 17:13:21) [MSC v.1915 64 bit (AMD64)]\n",
      "Version information----\n",
      "sys.version_info(major=3, minor=7, micro=3, releaselevel='final', serial=0)\n"
     ]
    }
   ],
   "source": [
    "import sys\n",
    "import os\n",
    "\n",
    "print(\"The version of python is ------\\n\", sys.version)\n",
    "\n",
    "print( \"Version information----\")\n",
    "print(sys.version_info)"
   ]
  },
  {
   "cell_type": "code",
   "execution_count": 19,
   "metadata": {},
   "outputs": [
    {
     "name": "stdout",
     "output_type": "stream",
     "text": [
      "the date and time is \n",
      "2020-04-05 18:20:23\n"
     ]
    }
   ],
   "source": [
    "import datetime\n",
    "from datetime import time\n",
    "\n",
    "now = datetime.datetime.now()\n",
    "print(\"the date and time is \")\n",
    "#print(datetime.datetime.now())\n",
    "print(now.strftime(\"%Y-%m-%d %H:%M:%S\"))"
   ]
  },
  {
   "cell_type": "code",
   "execution_count": 25,
   "metadata": {},
   "outputs": [
    {
     "name": "stdout",
     "output_type": "stream",
     "text": [
      "Enter the First Name : Shabir\n",
      "Enter the Last Name : Owais\n",
      "Hello..! Owais Shabir\n"
     ]
    }
   ],
   "source": [
    "Fname = input(\"Enter the First Name : \")\n",
    "Lname = input(\"Enter the Last Name : \")\n",
    "\n",
    "print(\"Hello..! \" +Lname+ \" \" +Fname)"
   ]
  },
  {
   "cell_type": "markdown",
   "metadata": {},
   "source": [
    "number = input(\"Enter the number : \")\n",
    "\n",
    "list = number.split(\",\")\n",
    "#list=list(number)\n",
    "tuple = tuple(list)\n",
    "\n",
    "print(list)\n",
    "print(tuple)"
   ]
  },
  {
   "cell_type": "code",
   "execution_count": null,
   "metadata": {},
   "outputs": [],
   "source": [
    "num = int(input())\n",
    "list = num.split(\",\")\n",
    "tuple = tuple(list)\n",
    "\n",
    "print(list)\n",
    "print(tuple)\n"
   ]
  },
  {
   "cell_type": "code",
   "execution_count": 37,
   "metadata": {},
   "outputs": [],
   "source": [
    "file = open(\"file.txt\",'w')\n",
    "file.write(\"My name is owais..!\")\n",
    "file.close()"
   ]
  },
  {
   "cell_type": "code",
   "execution_count": 40,
   "metadata": {},
   "outputs": [
    {
     "data": {
      "text/plain": [
       "'My name is owais..!'"
      ]
     },
     "execution_count": 40,
     "metadata": {},
     "output_type": "execute_result"
    }
   ],
   "source": [
    "file = open(\"file.txt\", 'r')\n",
    "file.read()"
   ]
  },
  {
   "cell_type": "code",
   "execution_count": 43,
   "metadata": {},
   "outputs": [
    {
     "name": "stdout",
     "output_type": "stream",
     "text": [
      "Enter the file with Extension : first.java\n",
      "The extension of give file is :'java'\n"
     ]
    }
   ],
   "source": [
    "File = input(\"Enter the file with Extension : \")\n",
    "\n",
    "extension = File.split(\".\")\n",
    "\n",
    "print(\"The extension of give file is :\" + repr(extension[-1]))"
   ]
  },
  {
   "cell_type": "code",
   "execution_count": 45,
   "metadata": {},
   "outputs": [
    {
     "name": "stdout",
     "output_type": "stream",
     "text": [
      "white\n",
      "orange\n"
     ]
    }
   ],
   "source": [
    "color_list  = ['white', 'black', 'green', 'orange']\n",
    "print(color_list[0])\n",
    "print(color_list[-1])"
   ]
  },
  {
   "cell_type": "code",
   "execution_count": 49,
   "metadata": {},
   "outputs": [
    {
     "name": "stdout",
     "output_type": "stream",
     "text": [
      "the exam will start from 12\\10\\2020\n"
     ]
    }
   ],
   "source": [
    "exam_date = (12,10,2020)\n",
    "print(\"the exam will start from %i\\%i\\%i\" % exam_date)"
   ]
  },
  {
   "cell_type": "code",
   "execution_count": 57,
   "metadata": {},
   "outputs": [
    {
     "name": "stdout",
     "output_type": "stream",
     "text": [
      "Enter The nuber : 5\n",
      "155\n"
     ]
    }
   ],
   "source": [
    "num = int(input(\"Enter The nuber : \"))\n",
    "result = 0\n",
    "for i in range(1,num-1):\n",
    "    result = result + num**i\n",
    "    \n",
    "print(result)"
   ]
  },
  {
   "cell_type": "code",
   "execution_count": 58,
   "metadata": {},
   "outputs": [
    {
     "name": "stdout",
     "output_type": "stream",
     "text": [
      "Enter the number : 5\n",
      "615\n"
     ]
    }
   ],
   "source": [
    "a = int(input(\"Enter the number : \"))\n",
    "\n",
    "a1 = int(\"%s\" % a)\n",
    "a2 = int(\"%s%s\" % (a,a))\n",
    "a3 = int(\"%s%s%s\" % (a,a,a))\n",
    "print(a1 + a2 + a3)"
   ]
  },
  {
   "cell_type": "code",
   "execution_count": 60,
   "metadata": {},
   "outputs": [
    {
     "name": "stdout",
     "output_type": "stream",
     "text": [
      "Enter the Month: 6\n",
      "Enter the Year : 1994\n",
      "     June 1994\n",
      "Mo Tu We Th Fr Sa Su\n",
      "       1  2  3  4  5\n",
      " 6  7  8  9 10 11 12\n",
      "13 14 15 16 17 18 19\n",
      "20 21 22 23 24 25 26\n",
      "27 28 29 30\n",
      "\n"
     ]
    }
   ],
   "source": [
    "import calendar\n",
    "Month = int(input(\"Enter the Month: \"))\n",
    "Year = int(input(\"Enter the Year : \"))\n",
    "\n",
    "\n",
    "print(calendar.month(Year,Month))"
   ]
  },
  {
   "cell_type": "code",
   "execution_count": 61,
   "metadata": {},
   "outputs": [
    {
     "name": "stdout",
     "output_type": "stream",
     "text": [
      "a string that you \"don't\" have to escape\n",
      "This\n",
      "is a ....... multi-line\n",
      "heredoc string --------> example\n",
      "\n"
     ]
    }
   ],
   "source": [
    "print(\"\"\"a string that you \"don't\" have to escape\n",
    "This\n",
    "is a ....... multi-line\n",
    "heredoc string --------> example\n",
    "\"\"\")"
   ]
  },
  {
   "cell_type": "code",
   "execution_count": 63,
   "metadata": {},
   "outputs": [
    {
     "name": "stdout",
     "output_type": "stream",
     "text": [
      "9464 days, 0:00:00\n"
     ]
    }
   ],
   "source": [
    "from datetime import date\n",
    "\n",
    "date_1 = date(1994,6,6)\n",
    "date_2 = date(2020,5,4)\n",
    "\n",
    "print(date_2 - date_1)"
   ]
  },
  {
   "cell_type": "code",
   "execution_count": 66,
   "metadata": {},
   "outputs": [
    {
     "name": "stdout",
     "output_type": "stream",
     "text": [
      "enter the number : 20\n",
      "3.0\n"
     ]
    }
   ],
   "source": [
    "num = float(input(\"enter the number : \"))\n",
    "\n",
    "diff = num - 17\n",
    "\n",
    "if diff > 17:\n",
    "    print(abs(2 * diff))\n",
    "    \n",
    "else:\n",
    "    print(diff)"
   ]
  },
  {
   "cell_type": "code",
   "execution_count": 67,
   "metadata": {},
   "outputs": [
    {
     "name": "stdout",
     "output_type": "stream",
     "text": [
      "2\n"
     ]
    },
    {
     "ename": "TypeError",
     "evalue": "'list' object cannot be interpreted as an integer",
     "output_type": "error",
     "traceback": [
      "\u001b[1;31m---------------------------------------------------------------------------\u001b[0m",
      "\u001b[1;31mTypeError\u001b[0m                                 Traceback (most recent call last)",
      "\u001b[1;32m<ipython-input-67-d8c648fb1752>\u001b[0m in \u001b[0;36m<module>\u001b[1;34m\u001b[0m\n\u001b[0;32m      1\u001b[0m \u001b[0mlist\u001b[0m \u001b[1;33m=\u001b[0m \u001b[1;33m[\u001b[0m\u001b[1;33m]\u001b[0m\u001b[1;33m\u001b[0m\u001b[1;33m\u001b[0m\u001b[0m\n\u001b[0;32m      2\u001b[0m \u001b[0mn\u001b[0m \u001b[1;33m=\u001b[0m \u001b[0mint\u001b[0m\u001b[1;33m(\u001b[0m\u001b[0minput\u001b[0m\u001b[1;33m(\u001b[0m\u001b[1;33m)\u001b[0m\u001b[1;33m)\u001b[0m\u001b[1;33m\u001b[0m\u001b[1;33m\u001b[0m\u001b[0m\n\u001b[1;32m----> 3\u001b[1;33m \u001b[1;32mfor\u001b[0m \u001b[0mi\u001b[0m \u001b[1;32min\u001b[0m \u001b[0mrange\u001b[0m\u001b[1;33m(\u001b[0m\u001b[0mlist\u001b[0m\u001b[1;33m)\u001b[0m\u001b[1;33m:\u001b[0m\u001b[1;33m\u001b[0m\u001b[1;33m\u001b[0m\u001b[0m\n\u001b[0m\u001b[0;32m      4\u001b[0m     \u001b[0mlist\u001b[0m\u001b[1;33m.\u001b[0m\u001b[0minsert\u001b[0m\u001b[1;33m[\u001b[0m\u001b[1;36m5\u001b[0m\u001b[1;33m]\u001b[0m\u001b[1;33m\u001b[0m\u001b[1;33m\u001b[0m\u001b[0m\n",
      "\u001b[1;31mTypeError\u001b[0m: 'list' object cannot be interpreted as an integer"
     ]
    }
   ],
   "source": [
    "list = []\n",
    "n = int(input())\n",
    "for i in range(list):\n",
    "    list.insert[5]"
   ]
  },
  {
   "cell_type": "code",
   "execution_count": 82,
   "metadata": {},
   "outputs": [
    {
     "name": "stdout",
     "output_type": "stream",
     "text": [
      "12\n"
     ]
    },
    {
     "ename": "AttributeError",
     "evalue": "'int' object has no attribute 'insert'",
     "output_type": "error",
     "traceback": [
      "\u001b[1;31m---------------------------------------------------------------------------\u001b[0m",
      "\u001b[1;31mAttributeError\u001b[0m                            Traceback (most recent call last)",
      "\u001b[1;32m<ipython-input-82-eb1d6a6b793b>\u001b[0m in \u001b[0;36m<module>\u001b[1;34m\u001b[0m\n\u001b[0;32m      2\u001b[0m \u001b[0mn\u001b[0m \u001b[1;33m=\u001b[0m \u001b[0mint\u001b[0m\u001b[1;33m(\u001b[0m\u001b[0minput\u001b[0m\u001b[1;33m(\u001b[0m\u001b[1;33m)\u001b[0m\u001b[1;33m)\u001b[0m\u001b[1;33m\u001b[0m\u001b[1;33m\u001b[0m\u001b[0m\n\u001b[0;32m      3\u001b[0m \u001b[1;32mfor\u001b[0m \u001b[0mlist\u001b[0m \u001b[1;32min\u001b[0m \u001b[0mrange\u001b[0m\u001b[1;33m(\u001b[0m\u001b[0mn\u001b[0m\u001b[1;33m)\u001b[0m\u001b[1;33m:\u001b[0m\u001b[1;33m\u001b[0m\u001b[1;33m\u001b[0m\u001b[0m\n\u001b[1;32m----> 4\u001b[1;33m     \u001b[0mlist\u001b[0m\u001b[1;33m.\u001b[0m\u001b[0minsert\u001b[0m\u001b[1;33m(\u001b[0m\u001b[1;36m0\u001b[0m\u001b[1;33m,\u001b[0m\u001b[1;36m5\u001b[0m\u001b[1;33m)\u001b[0m\u001b[1;33m\u001b[0m\u001b[1;33m\u001b[0m\u001b[0m\n\u001b[0m\u001b[0;32m      5\u001b[0m     \u001b[0mlist\u001b[0m\u001b[1;33m.\u001b[0m\u001b[0minsert\u001b[0m\u001b[1;33m(\u001b[0m\u001b[1;36m1\u001b[0m\u001b[1;33m,\u001b[0m\u001b[1;36m10\u001b[0m\u001b[1;33m)\u001b[0m\u001b[1;33m\u001b[0m\u001b[1;33m\u001b[0m\u001b[0m\n\u001b[0;32m      6\u001b[0m     \u001b[0mlist\u001b[0m\u001b[1;33m.\u001b[0m\u001b[0minsert\u001b[0m\u001b[1;33m(\u001b[0m\u001b[1;36m0\u001b[0m\u001b[1;33m,\u001b[0m\u001b[1;36m6\u001b[0m\u001b[1;33m)\u001b[0m\u001b[1;33m\u001b[0m\u001b[1;33m\u001b[0m\u001b[0m\n",
      "\u001b[1;31mAttributeError\u001b[0m: 'int' object has no attribute 'insert'"
     ]
    }
   ],
   "source": [
    "list = []\n",
    "n = int(input())\n",
    "for list in range(n):\n",
    "    list.insert(0,5)\n",
    "    list.insert(1,10)\n",
    "    list.insert(0,6)\n",
    "    print(list)\n",
    "\n",
    "    #-------------------------\n",
    "\n",
    "    list.remove(6)\n",
    "    list.append(9)\n",
    "    list.append(1)\n",
    "    list.sort()\n",
    "    #sorted(list)\n",
    "    print(list)\n",
    "    list.pop()\n",
    "    list.reverse()\n",
    "    print(list)"
   ]
  },
  {
   "cell_type": "code",
   "execution_count": null,
   "metadata": {},
   "outputs": [],
   "source": []
  },
  {
   "cell_type": "code",
   "execution_count": null,
   "metadata": {},
   "outputs": [],
   "source": [
    "arr = []\n",
    "for i in range(int(input())):\n",
    "    s = input().split()\n",
    "    for i in range(1,len(s)):\n",
    "        s[i] = int(s[i])\n",
    "        \n",
    "    if s[0] == \"append\":\n",
    "        arr.append(s[1])\n",
    "    elif s[0] == \"extend\":    \n",
    "        arr.extend(s[1:])\n",
    "    elif s[0] == \"insert\":\n",
    "        arr.insert(s[1],s[2])\n",
    "    elif s[0] == \"remove\":\n",
    "        arr.remove(s[1])\n",
    "    elif s[0] == \"pop\":\n",
    "        arr.pop()\n",
    "    elif s[0] == \"index\":\n",
    "        print(arr.index(s[1]))\n",
    "    elif s[0] == \"count\":\n",
    "        print(arr.count(s[1]))\n",
    "    elif s[0] == \"sort\":\n",
    "        arr.sort()\n",
    "    elif s[0] == \"reverse\":\n",
    "        arr.reverse()\n",
    "    elif s[0] == \"print\":\n",
    "        print(arr)"
   ]
  },
  {
   "cell_type": "code",
   "execution_count": null,
   "metadata": {},
   "outputs": [],
   "source": [
    "n = int(input())\n",
    "input_line = input()\n",
    "input_list = input_line.split()\n",
    "for i in range(n):\n",
    "    input_list[i] = int(input_list[i])\n",
    "    input_list = map(int, input_list)\n",
    "    input_list =  [int(x) for x in input_list]\n",
    "print(hash(tuple(input_list)))"
   ]
  },
  {
   "cell_type": "code",
   "execution_count": 3,
   "metadata": {},
   "outputs": [
    {
     "name": "stdout",
     "output_type": "stream",
     "text": [
      "5\n"
     ]
    }
   ],
   "source": [
    "list = [1,3,4,7,4,9,5,4,4,9,4]\n",
    "count = 0\n",
    "for i in list:\n",
    "    if i == 4:\n",
    "        count += 1\n",
    "print(count)"
   ]
  },
  {
   "cell_type": "code",
   "execution_count": 7,
   "metadata": {},
   "outputs": [
    {
     "name": "stdout",
     "output_type": "stream",
     "text": [
      "Enter the character :2\n",
      "OOPS.....The letter is not vowel...!\n"
     ]
    }
   ],
   "source": [
    "vowels = 'aeiou'\n",
    "\n",
    "C = str(input(\"Enter the character :\"))\n",
    "\n",
    "if C in vowels:\n",
    "    print(\"Letter is vowel....!\")\n",
    "else:\n",
    "    print(\"OOPS.....The letter is not vowel...!\")"
   ]
  },
  {
   "cell_type": "code",
   "execution_count": 10,
   "metadata": {},
   "outputs": [
    {
     "name": "stdout",
     "output_type": "stream",
     "text": [
      "3\n",
      "True\n"
     ]
    }
   ],
   "source": [
    "list = [3,7,5,1,9,6,0,1]\n",
    "\n",
    "N = int(input())\n",
    "\n",
    "if N in list:\n",
    "    print(\"True\")\n",
    "    \n",
    "else:\n",
    "    print(\"False\")"
   ]
  },
  {
   "cell_type": "code",
   "execution_count": 21,
   "metadata": {},
   "outputs": [
    {
     "name": "stdout",
     "output_type": "stream",
     "text": [
      "37519601\n"
     ]
    }
   ],
   "source": [
    "elem = ''\n",
    "for i in list:\n",
    "    elem += str(i)\n",
    "print(elem)"
   ]
  },
  {
   "cell_type": "code",
   "execution_count": 22,
   "metadata": {},
   "outputs": [
    {
     "name": "stdout",
     "output_type": "stream",
     "text": [
      "White\n",
      "Black\n"
     ]
    }
   ],
   "source": [
    "color_list_1 = set([\"White\", \"Black\", \"Red\"])\n",
    "color_list_2 = set([\"Red\", \"Green\"])\n",
    "\n",
    "for i in color_list_1:\n",
    "    if i not in color_list_2:\n",
    "        print(i)"
   ]
  },
  {
   "cell_type": "code",
   "execution_count": 33,
   "metadata": {},
   "outputs": [
    {
     "name": "stdout",
     "output_type": "stream",
     "text": [
      "20\n"
     ]
    }
   ],
   "source": [
    "def LCM(x,y):\n",
    "    if x > y:\n",
    "        z = x\n",
    "        \n",
    "    else:\n",
    "        z = y\n",
    "        \n",
    "    while(True):\n",
    "        if (z % x == 0) and (z % y == 0):\n",
    "            lcm = z\n",
    "            break\n",
    "            \n",
    "        z += 1\n",
    "        \n",
    "    return lcm\n",
    "print(LCM(10,4))            "
   ]
  },
  {
   "cell_type": "code",
   "execution_count": 41,
   "metadata": {},
   "outputs": [
    {
     "name": "stdout",
     "output_type": "stream",
     "text": [
      "30\n"
     ]
    }
   ],
   "source": [
    "def Check_num(a,b):\n",
    "    if not (isinstance(a,int) and isinstance(b,int)):\n",
    "        raise TypeError(\"Input must be Integer..!\")\n",
    "        \n",
    "    return a+b\n",
    "\n",
    "print(Check_num(10,20))\n",
    "        "
   ]
  },
  {
   "cell_type": "code",
   "execution_count": 44,
   "metadata": {},
   "outputs": [
    {
     "name": "stdout",
     "output_type": "stream",
     "text": [
      "True\n"
     ]
    }
   ],
   "source": [
    "import os\n",
    "open('file.txt','r')\n",
    "print(os.path.isfile('file.txt'))"
   ]
  },
  {
   "cell_type": "code",
   "execution_count": 66,
   "metadata": {},
   "outputs": [
    {
     "name": "stdout",
     "output_type": "stream",
     "text": [
      "Yor Python works as 64 ........ bits \n",
      "Your Os Name is ..... nt\n",
      "You OS Platform is ...... Windows\n",
      "Your release was on..... 10\n"
     ]
    }
   ],
   "source": [
    "import struct\n",
    "import os\n",
    "import platform\n",
    "Os_Bit = struct.calcsize(\"P\") * 8\n",
    "print(\"Yor Python works as {} ........ bits \".format(Os_Bit))\n",
    "\n",
    "print(\"Your Os Name is .....\",os.name)\n",
    "print(\"You OS Platform is ......\", platform.system())\n",
    "print(\"Your release was on.....\",platform.release())"
   ]
  },
  {
   "cell_type": "code",
   "execution_count": 55,
   "metadata": {},
   "outputs": [],
   "source": [
    "#from subprocess import call\n",
    "#call([\"ls\", \"file.txt\"])"
   ]
  },
  {
   "cell_type": "code",
   "execution_count": 4,
   "metadata": {},
   "outputs": [
    {
     "name": "stdout",
     "output_type": "stream",
     "text": [
      "Current File Name :  C:\\Users\\LOOSER\\Desktop\\Python Programmes\\file.txt\n"
     ]
    }
   ],
   "source": [
    "import os\n",
    "print(\"Current File Name : \",os.path.realpath('file.txt'))\n",
    "#print(\"Current File Name : \",os.path.realpath('pycharm64.exe'))\n"
   ]
  },
  {
   "cell_type": "code",
   "execution_count": 60,
   "metadata": {},
   "outputs": [
    {
     "name": "stdout",
     "output_type": "stream",
     "text": [
      "The No of CPU's running are :  4\n"
     ]
    }
   ],
   "source": [
    "import multiprocessing\n",
    "print(\"The No of CPU's running are : \", multiprocessing.cpu_count())"
   ]
  },
  {
   "cell_type": "code",
   "execution_count": 65,
   "metadata": {},
   "outputs": [
    {
     "name": "stdout",
     "output_type": "stream",
     "text": [
      "['android-studio-ide-192.6241897-windows.exe', 'desktop.ini', 'eclipse-inst-win64.exe', 'GitHub Desktop.lnk', 'Java_Runtime_Environment_(64bit)_v8_Update_144.exe', 'jdk-14_windows-x64_bin.exe', 'major project presentation.pptx', 'My Apology.docx', 'node-v13.11.0-x64.msi', 'Operating_Systems_Concepts.pdf', 'Owais (Innovative) - Chrome.lnk', 'postgresql-9.2', 'psiphon3.exe', 'Python_Documentation.docx', 'Sequence Learning Problems.pptx', 'Telegram.lnk', 'Visual Studio Code.lnk', 'WriteProtectedRemove.exe', 'youtube-dl.exe', 'Zoom.lnk', '~$G Use Case Pokemon Data Analysis.docx', '~$h sem seminar report.docx', '~$major project presentation.pptx', '~$oject_Report_Guidelines.docx', '~WRL2171.tmp']\n"
     ]
    }
   ],
   "source": [
    "from os import listdir\n",
    "from os.path import isfile, join\n",
    "list_dir = [f for f in listdir('/Users/LOOSER/Desktop') if isfile(join('/Users/LOOSER/Desktop', f))]\n",
    "print(list_dir)"
   ]
  },
  {
   "cell_type": "code",
   "execution_count": 68,
   "metadata": {},
   "outputs": [
    {
     "name": "stdout",
     "output_type": "stream",
     "text": [
      "4\n",
      "         39 function calls in 0.001 seconds\n",
      "\n",
      "   Ordered by: standard name\n",
      "\n",
      "   ncalls  tottime  percall  cumtime  percall filename:lineno(function)\n",
      "        1    0.000    0.000    0.001    0.001 <ipython-input-68-6a9a867add65>:3(sum)\n",
      "        1    0.000    0.000    0.001    0.001 <string>:1(<module>)\n",
      "        3    0.000    0.000    0.001    0.000 iostream.py:197(schedule)\n",
      "        2    0.000    0.000    0.000    0.000 iostream.py:309(_is_master_process)\n",
      "        2    0.000    0.000    0.000    0.000 iostream.py:322(_schedule_flush)\n",
      "        2    0.000    0.000    0.001    0.001 iostream.py:384(write)\n",
      "        3    0.000    0.000    0.000    0.000 iostream.py:93(_event_pipe)\n",
      "        3    0.001    0.000    0.001    0.000 socket.py:342(send)\n",
      "        3    0.000    0.000    0.000    0.000 threading.py:1038(_wait_for_tstate_lock)\n",
      "        3    0.000    0.000    0.000    0.000 threading.py:1080(is_alive)\n",
      "        3    0.000    0.000    0.000    0.000 threading.py:507(is_set)\n",
      "        1    0.000    0.000    0.001    0.001 {built-in method builtins.exec}\n",
      "        2    0.000    0.000    0.000    0.000 {built-in method builtins.isinstance}\n",
      "        1    0.000    0.000    0.001    0.001 {built-in method builtins.print}\n",
      "        2    0.000    0.000    0.000    0.000 {built-in method nt.getpid}\n",
      "        3    0.000    0.000    0.000    0.000 {method 'acquire' of '_thread.lock' objects}\n",
      "        3    0.000    0.000    0.000    0.000 {method 'append' of 'collections.deque' objects}\n",
      "        1    0.000    0.000    0.000    0.000 {method 'disable' of '_lsprof.Profiler' objects}\n",
      "\n",
      "\n"
     ]
    }
   ],
   "source": [
    "import cProfile\n",
    "\n",
    "def sum():\n",
    "\n",
    "    print(1+3)\n",
    "\n",
    "cProfile.run('sum()')"
   ]
  },
  {
   "cell_type": "code",
   "execution_count": 22,
   "metadata": {},
   "outputs": [
    {
     "name": "stdout",
     "output_type": "stream",
     "text": [
      "environ({'ADSK_CLM_WPAD_PROXY_CHECK': 'FALSE', 'ALLUSERSPROFILE': 'C:\\\\ProgramData', 'APPDATA': 'C:\\\\Users\\\\LOOSER\\\\AppData\\\\Roaming', 'COMMONPROGRAMFILES': 'C:\\\\Program Files\\\\Common Files', 'COMMONPROGRAMFILES(X86)': 'C:\\\\Program Files (x86)\\\\Common Files', 'COMMONPROGRAMW6432': 'C:\\\\Program Files\\\\Common Files', 'COMPUTERNAME': 'STRUGGLER', 'COMSPEC': 'C:\\\\WINDOWS\\\\system32\\\\cmd.exe', 'DRIVERDATA': 'C:\\\\Windows\\\\System32\\\\Drivers\\\\DriverData', 'HOMEDRIVE': 'C:', 'HOMEPATH': '\\\\Users\\\\LOOSER', 'JAVA_HOME': 'C:\\\\Program Files\\\\Java\\\\jre1.8.0_144', 'LOCALAPPDATA': 'C:\\\\Users\\\\LOOSER\\\\AppData\\\\Local', 'LOGONSERVER': '\\\\\\\\STRUGGLER', 'NUMBER_OF_PROCESSORS': '4', 'ONEDRIVE': 'C:\\\\Users\\\\LOOSER\\\\OneDrive', 'OS': 'Windows_NT', 'PATH': 'C:\\\\Program Files (x86)\\\\Common Files\\\\Oracle\\\\Java\\\\javapath;C:\\\\ProgramData\\\\Oracle\\\\Java\\\\javapath;C:\\\\Program Files\\\\Java\\\\jdk-14\\\\bin;C:\\\\Program Files\\\\Java\\\\jre1.8.0_144\\\\bin;C:\\\\Users\\\\LOOSER\\\\AppData\\\\Local\\\\Programs\\\\Python\\\\Python38;C:\\\\User\\\\LOOSER\\\\AppData\\\\Local\\\\Programs\\\\Continuum\\\\Anaconda3;C:\\\\User\\\\LOOSER\\\\AppData\\\\Local\\\\Programs\\\\Continuum\\\\Anaconda3\\\\Scripts;C:\\\\User\\\\LOOSER\\\\AppDataLocal\\\\Programs\\\\Continuum\\\\Anaconda3\\\\Library;C:\\\\User\\\\LOOSER\\\\AppData\\\\Local\\\\Programs\\\\Continuum\\\\Anaconda3\\\\Library\\\\Bin;C:\\\\Program Files\\\\Git\\\\cmd;C:\\\\Program Files\\\\nodejs\\\\;C:\\\\Users\\\\LOOSER\\\\Anaconda3;C:\\\\Users\\\\LOOSER\\\\Anaconda3\\\\Library\\\\mingw-w64\\\\bin;C:\\\\Users\\\\LOOSER\\\\Anaconda3\\\\Library\\\\usr\\\\bin;C:\\\\Users\\\\LOOSER\\\\Anaconda3\\\\Library\\\\bin;C:\\\\Users\\\\LOOSER\\\\Anaconda3\\\\Scripts;C:\\\\Users\\\\LOOSER\\\\AppData\\\\Local\\\\Programs\\\\Python\\\\Python38\\\\Scripts\\\\;C:\\\\Users\\\\LOOSER\\\\AppData\\\\Local\\\\Programs\\\\Python\\\\Python38\\\\;C:\\\\Users\\\\LOOSER\\\\AppData\\\\Local\\\\Microsoft\\\\WindowsApps;C:\\\\Users\\\\LOOSER\\\\AppData\\\\Local\\\\Programs\\\\Microsoft VS Code\\\\bin;C:\\\\Program Files\\\\JetBrains\\\\PyCharm Community Edition 2019.3.4\\\\bin;;C:\\\\Users\\\\LOOSER\\\\AppData\\\\Roaming\\\\npm', 'PATHEXT': '.COM;.EXE;.BAT;.CMD;.VBS;.VBE;.JS;.JSE;.WSF;.WSH;.MSC', 'PROCESSOR_ARCHITECTURE': 'AMD64', 'PROCESSOR_IDENTIFIER': 'AMD64 Family 22 Model 48 Stepping 1, AuthenticAMD', 'PROCESSOR_LEVEL': '22', 'PROCESSOR_REVISION': '3001', 'PROGRAMDATA': 'C:\\\\ProgramData', 'PROGRAMFILES': 'C:\\\\Program Files', 'PROGRAMFILES(X86)': 'C:\\\\Program Files (x86)', 'PROGRAMW6432': 'C:\\\\Program Files', 'PROMPT': '$P$G', 'PSMODULEPATH': 'C:\\\\Program Files\\\\WindowsPowerShell\\\\Modules;C:\\\\WINDOWS\\\\system32\\\\WindowsPowerShell\\\\v1.0\\\\Modules', 'PUBLIC': 'C:\\\\Users\\\\Public', 'PYCHARM COMMUNITY EDITION': 'C:\\\\Program Files\\\\JetBrains\\\\PyCharm Community Edition 2019.3.4\\\\bin;', 'SESSIONNAME': 'Console', 'SYSTEMDRIVE': 'C:', 'SYSTEMROOT': 'C:\\\\WINDOWS', 'TEMP': 'C:\\\\Users\\\\LOOSER\\\\AppData\\\\Local\\\\Temp', 'TMP': 'C:\\\\Users\\\\LOOSER\\\\AppData\\\\Local\\\\Temp', 'USERDOMAIN': 'STRUGGLER', 'USERDOMAIN_ROAMINGPROFILE': 'STRUGGLER', 'USERNAME': 'LOOSER', 'USERPROFILE': 'C:\\\\Users\\\\LOOSER', 'VBOX_MSI_INSTALL_PATH': 'C:\\\\Program Files\\\\Oracle\\\\VirtualBox\\\\', 'WINDIR': 'C:\\\\WINDOWS', 'KERNEL_LAUNCH_TIMEOUT': '40', 'JPY_INTERRUPT_EVENT': '3016', 'IPY_INTERRUPT_EVENT': '3016', 'JPY_PARENT_PID': '2232', 'TERM': 'xterm-color', 'CLICOLOR': '1', 'PAGER': 'cat', 'GIT_PAGER': 'cat', 'MPLBACKEND': 'module://ipykernel.pylab.backend_inline'})\n",
      "\n",
      "********************************************************************************************************************\n",
      "\n",
      "C:\\Program Files (x86)\\Common Files\\Oracle\\Java\\javapath;C:\\ProgramData\\Oracle\\Java\\javapath;C:\\Program Files\\Java\\jdk-14\\bin;C:\\Program Files\\Java\\jre1.8.0_144\\bin;C:\\Users\\LOOSER\\AppData\\Local\\Programs\\Python\\Python38;C:\\User\\LOOSER\\AppData\\Local\\Programs\\Continuum\\Anaconda3;C:\\User\\LOOSER\\AppData\\Local\\Programs\\Continuum\\Anaconda3\\Scripts;C:\\User\\LOOSER\\AppDataLocal\\Programs\\Continuum\\Anaconda3\\Library;C:\\User\\LOOSER\\AppData\\Local\\Programs\\Continuum\\Anaconda3\\Library\\Bin;C:\\Program Files\\Git\\cmd;C:\\Program Files\\nodejs\\;C:\\Users\\LOOSER\\Anaconda3;C:\\Users\\LOOSER\\Anaconda3\\Library\\mingw-w64\\bin;C:\\Users\\LOOSER\\Anaconda3\\Library\\usr\\bin;C:\\Users\\LOOSER\\Anaconda3\\Library\\bin;C:\\Users\\LOOSER\\Anaconda3\\Scripts;C:\\Users\\LOOSER\\AppData\\Local\\Programs\\Python\\Python38\\Scripts\\;C:\\Users\\LOOSER\\AppData\\Local\\Programs\\Python\\Python38\\;C:\\Users\\LOOSER\\AppData\\Local\\Microsoft\\WindowsApps;C:\\Users\\LOOSER\\AppData\\Local\\Programs\\Microsoft VS Code\\bin;C:\\Program Files\\JetBrains\\PyCharm Community Edition 2019.3.4\\bin;;C:\\Users\\LOOSER\\AppData\\Roaming\\npm\n",
      "-------------------------------------------\n"
     ]
    }
   ],
   "source": [
    "import os\n",
    "\n",
    "print(os.environ)\n",
    "print(\"\\n********************************************************************************************************************\\n\")\n",
    "print(os.environ['Path'])\n",
    "print(\"-------------------------------------------\")\n",
    "#print(os.environ['LOOSER'])"
   ]
  },
  {
   "cell_type": "code",
   "execution_count": 20,
   "metadata": {},
   "outputs": [
    {
     "name": "stdout",
     "output_type": "stream",
     "text": [
      "LOOSER\n"
     ]
    }
   ],
   "source": [
    "import getpass \n",
    "print(getpass.getuser())"
   ]
  },
  {
   "cell_type": "code",
   "execution_count": 23,
   "metadata": {},
   "outputs": [
    {
     "name": "stdout",
     "output_type": "stream",
     "text": [
      "192.168.1.5\n"
     ]
    }
   ],
   "source": [
    "import socket\n",
    "print([l for l in ([ip for ip in socket.gethostbyname_ex(socket.gethostname())[2] \n",
    "if not ip.startswith(\"127.\")][:1], [[(s.connect(('8.8.8.8', 53)), \n",
    "s.getsockname()[0], s.close()) for s in [socket.socket(socket.AF_INET, \n",
    "socket.SOCK_DGRAM)]][0][1]]) if l][0][0])\n"
   ]
  },
  {
   "cell_type": "code",
   "execution_count": 29,
   "metadata": {},
   "outputs": [
    {
     "name": "stdout",
     "output_type": "stream",
     "text": [
      "Execution time is :  (5, 0.0)\n"
     ]
    }
   ],
   "source": [
    "import time \n",
    "def Calculate(n):\n",
    "    \n",
    "    start_time = time.time()\n",
    "    s = 0\n",
    "    for i in range(1, n+1):\n",
    "        s = s+1\n",
    "        \n",
    "    \n",
    "    end_time = time.time()\n",
    "    \n",
    "    return s, end_time - start_time\n",
    "print(\"Execution time is : \", Calculate(5))"
   ]
  },
  {
   "cell_type": "code",
   "execution_count": 31,
   "metadata": {},
   "outputs": [
    {
     "name": "stdout",
     "output_type": "stream",
     "text": [
      "The file was last modified on :  Sun Apr  5 18:58:04 2020\n",
      "The file was created on :  Thu Mar 26 14:25:16 2020\n"
     ]
    }
   ],
   "source": [
    "print(\"The file was last modified on : \", time.ctime(os.path.getmtime('file.txt')))\n",
    "print(\"The file was created on : \", time.ctime(os.path.getctime('file.txt')))"
   ]
  },
  {
   "cell_type": "code",
   "execution_count": 32,
   "metadata": {},
   "outputs": [
    {
     "name": "stdout",
     "output_type": "stream",
     "text": [
      "file.txt\n"
     ]
    }
   ],
   "source": [
    "import glob\n",
    "import os\n",
    "\n",
    "files = glob.glob(\"*.txt\")\n",
    "files.sort(key=os.path.getmtime)\n",
    "print(\"\\n\".join(files))"
   ]
  },
  {
   "cell_type": "code",
   "execution_count": 39,
   "metadata": {},
   "outputs": [
    {
     "name": "stdout",
     "output_type": "stream",
     "text": [
      "Enter the word : w3r\n",
      "The coded word is :  W02\n"
     ]
    }
   ],
   "source": [
    "soundex=[0,1,2,3,0,1,2,0,0,2,2,4,5,5,0,1,2,6,2,3,0,1,0,2,0,2]\n",
    "\n",
    "word = input(\"Enter the word : \")\n",
    "word = word.upper()\n",
    "coded = word[0]\n",
    "\n",
    "for i in word[1: len(word)]:\n",
    "    i = 65-ord(i)\n",
    "    \n",
    "    coded=coded+str(soundex[i])\n",
    "    \n",
    "print(\"The coded word is : \", coded)"
   ]
  },
  {
   "cell_type": "code",
   "execution_count": null,
   "metadata": {},
   "outputs": [],
   "source": []
  }
 ],
 "metadata": {
  "celltoolbar": "Raw Cell Format",
  "kernelspec": {
   "display_name": "Python 3",
   "language": "python",
   "name": "python3"
  },
  "language_info": {
   "codemirror_mode": {
    "name": "ipython",
    "version": 3
   },
   "file_extension": ".py",
   "mimetype": "text/x-python",
   "name": "python",
   "nbconvert_exporter": "python",
   "pygments_lexer": "ipython3",
   "version": "3.7.3"
  }
 },
 "nbformat": 4,
 "nbformat_minor": 4
}
