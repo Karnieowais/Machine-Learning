{
 "cells": [
  {
   "cell_type": "markdown",
   "metadata": {},
   "source": [
    "# File handling in Python"
   ]
  },
  {
   "cell_type": "code",
   "execution_count": 113,
   "metadata": {},
   "outputs": [
    {
     "name": "stdout",
     "output_type": "stream",
     "text": [
      "!.......... What a beautiful Poem..........!\n",
      "!.......... What a beautiful Poem..........!\n",
      "Who doesn't like being romanced every now and again? \n",
      "It's the little things that count, and what better way \n",
      "to show a little love than sending some little love \n",
      "poems to that special person in your life?\n",
      "This is especially good if you're dating, say,\n",
      "an English major, or generally anyone that loves the \n",
      "art of words and the lovely and silly ways they can all\n",
      "be strung together.\n",
      "And if you're not exactly the best at stringing said words, \n",
      "there's nothing wrong with finding them online or in a book \n",
      "and then sending them off!\n",
      "Whether you're just in a moment of passion, feeling inspired \n",
      "to personify a modern Romeo and Juliet (without dying),\n",
      "or you don't think your partner hears this stuff enough,\n",
      "little love poems are the simplest way to inject some extra\n",
      "romance into your everyday life\n",
      "Don't be shy, and let yourself be ooey-gooey! These short love\n",
      " poems should do the trick. (Try sending them by text for sweet surprise!)\n",
      "Super..........\n"
     ]
    }
   ],
   "source": [
    "# Open the file and asign to a variable f\n",
    "\n",
    "f=open(\"Poem.txt\")\n",
    "\n",
    "print(f.read())\n",
    "\n",
    "# after reading file close it by cloase() method\n",
    "f.close()"
   ]
  },
  {
   "cell_type": "code",
   "execution_count": 114,
   "metadata": {},
   "outputs": [],
   "source": [
    "# open the file in append mode and append some text to it\n",
    "\n",
    "f=open(\"Poem.txt\",\"a\")\n",
    "\n",
    "# Append text \"!.......This is the beautiful Poem....!\" to file Poem.txt\n",
    "\n",
    "f.write(\"!.......This is the beautiful Poem....!\")\n",
    "\n",
    "# close the file after appending the text \n",
    "f.close()"
   ]
  },
  {
   "cell_type": "code",
   "execution_count": 115,
   "metadata": {},
   "outputs": [
    {
     "name": "stdout",
     "output_type": "stream",
     "text": [
      "!.......... What a beautiful Poem..........!\n",
      "!.......... What a beautiful Poem..........!\n",
      "Who doesn't like being romanced every now and again? \n",
      "It's the little things that count, and what better way \n",
      "to show a little love than sending some little love \n",
      "poems to that special person in your life?\n",
      "This is especially good if you're dating, say,\n",
      "an English major, or generally anyone that loves the \n",
      "art of words and the lovely and silly ways they can all\n",
      "be strung together.\n",
      "And if you're not exactly the best at stringing said words, \n",
      "there's nothing wrong with finding them online or in a book \n",
      "and then sending them off!\n",
      "Whether you're just in a moment of passion, feeling inspired \n",
      "to personify a modern Romeo and Juliet (without dying),\n",
      "or you don't think your partner hears this stuff enough,\n",
      "little love poems are the simplest way to inject some extra\n",
      "romance into your everyday life\n",
      "Don't be shy, and let yourself be ooey-gooey! These short love\n",
      " poems should do the trick. (Try sending them by text for sweet surprise!)\n",
      "Super..........!.......This is the beautiful Poem....!\n"
     ]
    }
   ],
   "source": [
    "# reads the file txt appended\n",
    "\n",
    "f=open(\"Poem.txt\")\n",
    "\n",
    "print(f.read())"
   ]
  },
  {
   "cell_type": "code",
   "execution_count": 104,
   "metadata": {},
   "outputs": [
    {
     "name": "stdout",
     "output_type": "stream",
     "text": [
      "!.......... What a beautiful Poem..........!\n",
      "\n",
      "Who doesn't like being romanced every now and again? \n",
      "\n",
      "It's the little things that count, and what better way \n",
      "\n",
      "to show a little love than sending some little love \n",
      "\n",
      "poems to that special person in your life?\n",
      "\n",
      "This is especially good if you're dating, say,\n",
      "\n",
      "an English major, or generally anyone that loves the \n",
      "\n",
      "art of words and the lovely and silly ways they can all\n",
      "\n",
      "be strung together.\n",
      "\n",
      "And if you're not exactly the best at stringing said words, \n",
      "\n",
      "there's nothing wrong with finding them online or in a book \n",
      "\n",
      "and then sending them off!\n",
      "\n",
      "Whether you're just in a moment of passion, feeling inspired \n",
      "\n",
      "to personify a modern Romeo and Juliet (without dying),\n",
      "\n",
      "or you don't think your partner hears this stuff enough,\n",
      "\n",
      "little love poems are the simplest way to inject some extra\n",
      "\n",
      "romance into your everyday life\n",
      "\n",
      "Don't be shy, and let yourself be ooey-gooey! These short love\n",
      "\n",
      " poems should do the trick. (Try sending them by text for sweet surprise!)\n",
      "\n",
      "Super..........\n",
      "\n"
     ]
    }
   ],
   "source": [
    "# opens the file and reads the text line by line\n",
    "\n",
    "f=open(\"Poem.txt\")\n",
    "for x in f:\n",
    "    print(x)\n",
    "print(f.read())"
   ]
  },
  {
   "cell_type": "code",
   "execution_count": 105,
   "metadata": {},
   "outputs": [],
   "source": [
    "# open the file in reading mode \n",
    "# write something \n",
    "# after writing to the text file \n",
    "# it replaces the existing file\n",
    "f=open(\"Poem.txt\",\"w\")\n",
    "f.write(\"!.......... What a beautiful Poem..........!\")\n",
    "f.close()"
   ]
  },
  {
   "cell_type": "code",
   "execution_count": 106,
   "metadata": {},
   "outputs": [
    {
     "name": "stdout",
     "output_type": "stream",
     "text": [
      "!.......... What a beautiful Poem..........!\n"
     ]
    }
   ],
   "source": [
    "f=open(\"Poem.txt\")\n",
    "print(f.read())"
   ]
  },
  {
   "cell_type": "code",
   "execution_count": 107,
   "metadata": {},
   "outputs": [],
   "source": [
    "f.close()"
   ]
  },
  {
   "cell_type": "code",
   "execution_count": 108,
   "metadata": {},
   "outputs": [
    {
     "name": "stdout",
     "output_type": "stream",
     "text": [
      "!.......... What a beautiful Poem..........!\n"
     ]
    }
   ],
   "source": [
    "f=open(\"Poem.txt\",\"r\")\n",
    "print(f.read())"
   ]
  },
  {
   "cell_type": "code",
   "execution_count": 109,
   "metadata": {},
   "outputs": [],
   "source": [
    "def IO_Handling(fname):\n",
    "    f=open(fname)\n",
    "    print(f.read())\n"
   ]
  },
  {
   "cell_type": "code",
   "execution_count": 110,
   "metadata": {},
   "outputs": [
    {
     "name": "stdout",
     "output_type": "stream",
     "text": [
      "!.......... What a beautiful Poem..........!\n"
     ]
    }
   ],
   "source": [
    "IO_Handling(\"Poem.txt\")"
   ]
  },
  {
   "cell_type": "code",
   "execution_count": 31,
   "metadata": {},
   "outputs": [],
   "source": [
    "def Read_first_nlines(fname,nline):\n",
    "    from itertools import islice\n",
    "    f=open(\"Poem.txt\")\n",
    "   # with open(fname) as f:\n",
    "    for x in islice(f,nline):\n",
    "        print(x)"
   ]
  },
  {
   "cell_type": "code",
   "execution_count": 48,
   "metadata": {},
   "outputs": [],
   "source": [
    "Read_first_nlines(f,5)"
   ]
  },
  {
   "cell_type": "markdown",
   "metadata": {},
   "source": [
    "# Stat() Method\n",
    "os.stat() method in Python performs stat() system call on the specified path. \n",
    "This method is used to get status of the specified path\n",
    "Syntax: os.stat(path)\n",
    "Parameter:\n",
    "path: A string or bytes object representing a valid path\n",
    "\n",
    "Return Type: This method returns a ‘stat_result’ object of class ‘os.stat_result’ which represents the status of specified path. The returned ‘stat-result’ object has following attributes:\n",
    "\n",
    "st_mode: It represents file type and file mode bits (permissions).\n",
    "st_ino: It represents the inode number on Unix and the file index on Windows platform.\n",
    "st_dev: It represents the identifier of the device on which this file resides.\n",
    "st_nlink: It represents the number of hard links.\n",
    "st_uid: It represents the user identifier of the file owner.\n",
    "st_gid: It represents the group identifier of the file owner.\n",
    "st_size: It represents the size of the file in bytes.\n",
    "st_atime: It represents the time of most recent access. It is expressed in seconds.\n",
    "st_mtime: It represents the time of most recent content modification. It is expressed in seconds.\n",
    "st_ctime: It represents the time of most recent metadata change on Unix and creation time on Windows. It is expressed in seconds.\n",
    "st_atime_ns: It is same as st_atime but the time is expressed in nanoseconds as an integer.\n",
    "st_mtime_ns: It is same as st_mtime but the time is expressed in nanoseconds as an integer.\n",
    "st_ctime_ns: It is same as st_ctime but the time is expressed in nanoseconds as an integer.\n",
    "st_blocks: It represents the number of 512-byte blocks allocated for file.\n",
    "st_rdev: It represents the type of device, if an inode device.\n",
    "st_flags: It represents the user defined flags for file."
   ]
  },
  {
   "cell_type": "code",
   "execution_count": 116,
   "metadata": {},
   "outputs": [
    {
     "name": "stdout",
     "output_type": "stream",
     "text": [
      " poems should do the trick. (Try sending them by text for sweet surprise!)\n",
      "Super..........!.......This is the beautiful Poem....!\n"
     ]
    }
   ],
   "source": [
    "import sys\n",
    "import os\n",
    "def file_read_from_tail(fname,lines):\n",
    "        bufsize = 8192\n",
    "        fsize = os.stat(fname).st_size\n",
    "        iter = 0\n",
    "        f=open(fname)\n",
    "        if bufsize > fsize:\n",
    "            bufsize = fsize-1\n",
    "            data = []\n",
    "            while True:\n",
    "                iter +=1\n",
    "                f.seek(fsize-bufsize*iter)\n",
    "                                \n",
    "                data.extend(f.readlines())\n",
    "                if len(data) >= lines or f.tell() == 0:\n",
    "                    print(''.join(data[-lines:]))\n",
    "                    break\n",
    "\n",
    "file_read_from_tail('Poem.txt',2)"
   ]
  },
  {
   "cell_type": "markdown",
   "metadata": {},
   "source": [
    "# Read the file line by line and store in list \n",
    "The readlines() method returns a list containing each line in the file as a list item. Use the hint parameter to limit the number of lines returned. If the total number of bytes returned exceeds the specified number, no more lines are returned"
   ]
  },
  {
   "cell_type": "code",
   "execution_count": 51,
   "metadata": {},
   "outputs": [],
   "source": [
    "def Read_Text_linebyline(fname):\n",
    "    f=open(\"Poem.txt\")\n",
    "    List_contain_readed_lines=f.readlines()\n",
    "    print(List_contain_readed_lines)"
   ]
  },
  {
   "cell_type": "code",
   "execution_count": 54,
   "metadata": {},
   "outputs": [
    {
     "name": "stdout",
     "output_type": "stream",
     "text": [
      "['!.......... What a beautiful Poem..........!\\n', \"Who doesn't like being romanced every now and again? \\n\", \"It's the little things that count, and what better way \\n\", 'to show a little love than sending some little love \\n', 'poems to that special person in your life?\\n', \"This is especially good if you're dating, say,\\n\", 'an English major, or generally anyone that loves the \\n', 'art of words and the lovely and silly ways they can all\\n', 'be strung together.\\n', \"And if you're not exactly the best at stringing said words, \\n\", \"there's nothing wrong with finding them online or in a book \\n\", 'and then sending them off!\\n', \"Whether you're just in a moment of passion, feeling inspired \\n\", 'to personify a modern Romeo and Juliet (without dying),\\n', \"or you don't think your partner hears this stuff enough,\\n\", 'little love poems are the simplest way to inject some extra\\n', 'romance into your everyday life\\n', \"Don't be shy, and let yourself be ooey-gooey! These short love\\n\", ' poems should do the trick. (Try sending them by text for sweet surprise!)']\n"
     ]
    }
   ],
   "source": [
    "Read_Text_linebyline('Poem.txt')"
   ]
  },
  {
   "cell_type": "code",
   "execution_count": 56,
   "metadata": {},
   "outputs": [],
   "source": [
    "f=open(\"Poem.txt\",\"r\")\n",
    "print(f.readlines())"
   ]
  },
  {
   "cell_type": "markdown",
   "metadata": {},
   "source": [
    "# Read the file line by line and store in variable"
   ]
  },
  {
   "cell_type": "code",
   "execution_count": 58,
   "metadata": {},
   "outputs": [
    {
     "name": "stdout",
     "output_type": "stream",
     "text": [
      "['!.......... What a beautiful Poem..........!\\n', \"Who doesn't like being romanced every now and again? \\n\", \"It's the little things that count, and what better way \\n\", 'to show a little love than sending some little love \\n', 'poems to that special person in your life?\\n', \"This is especially good if you're dating, say,\\n\", 'an English major, or generally anyone that loves the \\n', 'art of words and the lovely and silly ways they can all\\n', 'be strung together.\\n', \"And if you're not exactly the best at stringing said words, \\n\", \"there's nothing wrong with finding them online or in a book \\n\", 'and then sending them off!\\n', \"Whether you're just in a moment of passion, feeling inspired \\n\", 'to personify a modern Romeo and Juliet (without dying),\\n', \"or you don't think your partner hears this stuff enough,\\n\", 'little love poems are the simplest way to inject some extra\\n', 'romance into your everyday life\\n', \"Don't be shy, and let yourself be ooey-gooey! These short love\\n\", ' poems should do the trick. (Try sending them by text for sweet surprise!)']\n"
     ]
    }
   ],
   "source": [
    "f=open(\"Poem.txt\",\"r\")\n",
    "variable=f.readlines()\n",
    "print(variable)\n"
   ]
  },
  {
   "cell_type": "markdown",
   "metadata": {},
   "source": [
    "# Read the file line by line and store in an Array"
   ]
  },
  {
   "cell_type": "code",
   "execution_count": 71,
   "metadata": {},
   "outputs": [],
   "source": [
    "def Store_in_array(fname):\n",
    "    array=[]\n",
    "    f=open(\"Poem.txt\",\"r\")\n",
    "    for x in f:\n",
    "        array.append(x)\n",
    "    print(array)\n",
    "    "
   ]
  },
  {
   "cell_type": "code",
   "execution_count": 72,
   "metadata": {},
   "outputs": [
    {
     "name": "stdout",
     "output_type": "stream",
     "text": [
      "['!.......... What a beautiful Poem..........!\\n', \"Who doesn't like being romanced every now and again? \\n\", \"It's the little things that count, and what better way \\n\", 'to show a little love than sending some little love \\n', 'poems to that special person in your life?\\n', \"This is especially good if you're dating, say,\\n\", 'an English major, or generally anyone that loves the \\n', 'art of words and the lovely and silly ways they can all\\n', 'be strung together.\\n', \"And if you're not exactly the best at stringing said words, \\n\", \"there's nothing wrong with finding them online or in a book \\n\", 'and then sending them off!\\n', \"Whether you're just in a moment of passion, feeling inspired \\n\", 'to personify a modern Romeo and Juliet (without dying),\\n', \"or you don't think your partner hears this stuff enough,\\n\", 'little love poems are the simplest way to inject some extra\\n', 'romance into your everyday life\\n', \"Don't be shy, and let yourself be ooey-gooey! These short love\\n\", ' poems should do the trick. (Try sending them by text for sweet surprise!)']\n"
     ]
    }
   ],
   "source": [
    "Store_in_array(\"Poem.txt\")"
   ]
  },
  {
   "cell_type": "markdown",
   "metadata": {},
   "source": [
    "# Find the longest word in a file\n",
    "    max(some_variable,key=len)\n",
    "    "
   ]
  },
  {
   "cell_type": "code",
   "execution_count": 101,
   "metadata": {},
   "outputs": [],
   "source": [
    "def Longest_word(filename):\n",
    "    f=open(\"Poem.txt\")\n",
    "    word=f.read().split()\n",
    "    max_len=len(max(word,key=len))\n",
    "    for x in word:\n",
    "        if len(x) == max_len:\n",
    "            print(x)\n",
    "            print(max_len)\n",
    "        \n",
    "           \n",
    "\n"
   ]
  },
  {
   "cell_type": "code",
   "execution_count": 102,
   "metadata": {},
   "outputs": [
    {
     "name": "stdout",
     "output_type": "stream",
     "text": [
      "Poem..........!\n",
      "15\n",
      "Super..........\n",
      "15\n"
     ]
    }
   ],
   "source": [
    "Longest_word(\"Poem.txt\")"
   ]
  },
  {
   "cell_type": "markdown",
   "metadata": {},
   "source": [
    "# Enumerator\n",
    "An enumerator built-in-function adds a counter of iterable numbers to the provided data structure of integers, \n",
    "characters or strings and many more. Now the data structure might be any list, tuple, dictionary or sets.\n",
    "If the counter is not provided by the user, then it starts from 0 by default. Based on the number provided \n",
    "the enumerator function iterates.\n",
    "\n",
    "               enumerate(iterable, start)"
   ]
  },
  {
   "cell_type": "code",
   "execution_count": 119,
   "metadata": {},
   "outputs": [
    {
     "name": "stdout",
     "output_type": "stream",
     "text": [
      "Number of lines in the file:  21\n"
     ]
    }
   ],
   "source": [
    "# Define the function \n",
    "\n",
    "def file_length(fname):\n",
    "        f=open(\"Poem.txt\")\n",
    "        for i ,l in enumerate(f):\n",
    "            pass\n",
    "        return i + 1\n",
    "print(\"Number of lines in the file: \",file_length(\"Poem.txt\"))"
   ]
  },
  {
   "cell_type": "markdown",
   "metadata": {},
   "source": [
    "# Collection module\n",
    "Collections is a built-in Python module that implements specialized container datatypes \n",
    "providing alternatives to Python’s general purpose built-in containers such as dict, list, set, and tuple.\n",
    "\n",
    "#Counter: \n",
    "Counter is a dict subclass which helps to count hashable objects. The elements are stored as \n",
    "dictionary keys while the object counts are stored as the value. Let’s work through a few examples with Counter.\n",
    "\n",
    "                Command for Installation:pip install collections-extended"
   ]
  },
  {
   "cell_type": "code",
   "execution_count": 13,
   "metadata": {},
   "outputs": [],
   "source": [
    "from collections import Counter"
   ]
  },
  {
   "cell_type": "code",
   "execution_count": 34,
   "metadata": {},
   "outputs": [
    {
     "name": "stdout",
     "output_type": "stream",
     "text": [
      "The frequecy of Words in This file is :  Counter({'and': 7, 'the': 7, 'a': 6, 'little': 4, 'to': 4, 'love': 4, 'beautiful': 3, 'that': 3, 'sending': 3, 'poems': 3, 'in': 3, 'your': 3, \"you're\": 3, 'or': 3, 'be': 3, 'them': 3, '!..........': 2, 'What': 2, 'Poem..........!': 2, 'way': 2, 'some': 2, 'is': 2, 'if': 2, 'of': 2, 'Who': 1, \"doesn't\": 1, 'like': 1, 'being': 1, 'romanced': 1, 'every': 1, 'now': 1, 'again?': 1, \"It's\": 1, 'things': 1, 'count,': 1, 'what': 1, 'better': 1, 'show': 1, 'than': 1, 'special': 1, 'person': 1, 'life?': 1, 'This': 1, 'especially': 1, 'good': 1, 'dating,': 1, 'say,': 1, 'an': 1, 'English': 1, 'major,': 1, 'generally': 1, 'anyone': 1, 'loves': 1, 'art': 1, 'words': 1, 'lovely': 1, 'silly': 1, 'ways': 1, 'they': 1, 'can': 1, 'all': 1, 'strung': 1, 'together.': 1, 'And': 1, 'not': 1, 'exactly': 1, 'best': 1, 'at': 1, 'stringing': 1, 'said': 1, 'words,': 1, \"there's\": 1, 'nothing': 1, 'wrong': 1, 'with': 1, 'finding': 1, 'online': 1, 'book': 1, 'then': 1, 'off!': 1, 'Whether': 1, 'just': 1, 'moment': 1, 'passion,': 1, 'feeling': 1, 'inspired': 1, 'personify': 1, 'modern': 1, 'Romeo': 1, 'Juliet': 1, '(without': 1, 'dying),': 1, 'you': 1, \"don't\": 1, 'think': 1, 'partner': 1, 'hears': 1, 'this': 1, 'stuff': 1, 'enough,': 1, 'are': 1, 'simplest': 1, 'inject': 1, 'extra': 1, 'romance': 1, 'into': 1, 'everyday': 1, 'life': 1, \"Don't\": 1, 'shy,': 1, 'let': 1, 'yourself': 1, 'ooey-gooey!': 1, 'These': 1, 'short': 1, 'should': 1, 'do': 1, 'trick.': 1, '(Try': 1, 'by': 1, 'text': 1, 'for': 1, 'sweet': 1, 'surprise!)': 1, 'Super..........!.......This': 1, 'Poem....!': 1})\n"
     ]
    }
   ],
   "source": [
    "def Frequecy_count(fname):\n",
    "    list=[]\n",
    "    f=open(\"Poem.txt\")\n",
    "    return Counter(f.read().split( ))\n",
    "print(\"The frequecy of Words in This file is : \", Frequecy_count(\"Poem.txt\"))"
   ]
  },
  {
   "cell_type": "markdown",
   "metadata": {},
   "source": [
    "# Programme to give the size of a simple file"
   ]
  },
  {
   "cell_type": "code",
   "execution_count": 23,
   "metadata": {},
   "outputs": [
    {
     "name": "stdout",
     "output_type": "stream",
     "text": [
      "The size of the file is:  1101\n"
     ]
    }
   ],
   "source": [
    "import os\n",
    "\n",
    "def Size_of_file(filename):\n",
    "    f=os.stat(\"Poem.txt\")  # This gives the status of the file\n",
    "    \n",
    "    return f.st_size        # st_size gives the sixe of a file\n",
    "\n",
    "print(\"The size of the file is: \" , Size_of_file(\"Poem.txt\"))"
   ]
  },
  {
   "cell_type": "markdown",
   "metadata": {},
   "source": [
    "# Programme to write the list to a file"
   ]
  },
  {
   "cell_type": "code",
   "execution_count": null,
   "metadata": {},
   "outputs": [],
   "source": [
    "color = ['Red', 'Green', 'White', 'Black', 'Pink', 'Yellow']\n",
    "with open('abc.txt', \"w\") as myfile:\n",
    "        for c in color:\n",
    "                myfile.write(\"%s\\n\" % c)\n",
    "\n",
    "content = open('abc.txt')\n",
    "print(content.read())"
   ]
  },
  {
   "cell_type": "code",
   "execution_count": 37,
   "metadata": {},
   "outputs": [
    {
     "data": {
      "text/plain": [
       "'abc.txt'"
      ]
     },
     "execution_count": 37,
     "metadata": {},
     "output_type": "execute_result"
    }
   ],
   "source": [
    "from shutil import copyfile\n",
    "copyfile('Poem.txt', 'abc.txt')"
   ]
  },
  {
   "cell_type": "code",
   "execution_count": 40,
   "metadata": {},
   "outputs": [
    {
     "name": "stdout",
     "output_type": "stream",
     "text": [
      "!.......... What a beautiful Poem..........!\n",
      "!.......... What a beautiful Poem..........!\n",
      "Who doesn't like being romanced every now and again? \n",
      "It's the little things that count, and what better way \n",
      "to show a little love than sending some little love \n",
      "poems to that special person in your life?\n",
      "This is especially good if you're dating, say,\n",
      "an English major, or generally anyone that loves the \n",
      "art of words and the lovely and silly ways they can all\n",
      "be strung together.\n",
      "And if you're not exactly the best at stringing said words, \n",
      "there's nothing wrong with finding them online or in a book \n",
      "and then sending them off!\n",
      "Whether you're just in a moment of passion, feeling inspired \n",
      "to personify a modern Romeo and Juliet (without dying),\n",
      "or you don't think your partner hears this stuff enough,\n",
      "little love poems are the simplest way to inject some extra\n",
      "romance into your everyday life\n",
      "Don't be shy, and let yourself be ooey-gooey! These short love\n",
      " poems should do the trick. (Try sending them by text for sweet surprise!)\n",
      "Super..........!.......This is the beautiful Poem....!\n"
     ]
    }
   ],
   "source": [
    "f=open(\"abc.txt\")\n",
    "print(f.read())\n",
    "f.close()"
   ]
  },
  {
   "cell_type": "markdown",
   "metadata": {},
   "source": [
    "# program to combine each line from first file with the corresponding line in second file."
   ]
  },
  {
   "cell_type": "code",
   "execution_count": 50,
   "metadata": {},
   "outputs": [
    {
     "name": "stdout",
     "output_type": "stream",
     "text": [
      "!.......... What a beautiful Poem..........!\n",
      "!.......... What a beautiful Poem..........!\n",
      "\n",
      "!.......... What a beautiful Poem..........!\n",
      "!.......... What a beautiful Poem..........!\n",
      "\n",
      "Who doesn't like being romanced every now and again? \n",
      "Who doesn't like being romanced every now and again? \n",
      "\n",
      "It's the little things that count, and what better way \n",
      "It's the little things that count, and what better way \n",
      "\n",
      "to show a little love than sending some little love \n",
      "to show a little love than sending some little love \n",
      "\n",
      "poems to that special person in your life?\n",
      "poems to that special person in your life?\n",
      "\n",
      "This is especially good if you're dating, say,\n",
      "This is especially good if you're dating, say,\n",
      "\n",
      "an English major, or generally anyone that loves the \n",
      "an English major, or generally anyone that loves the \n",
      "\n",
      "art of words and the lovely and silly ways they can all\n",
      "art of words and the lovely and silly ways they can all\n",
      "\n",
      "be strung together.\n",
      "be strung together.\n",
      "\n",
      "And if you're not exactly the best at stringing said words, \n",
      "And if you're not exactly the best at stringing said words, \n",
      "\n",
      "there's nothing wrong with finding them online or in a book \n",
      "there's nothing wrong with finding them online or in a book \n",
      "\n",
      "and then sending them off!\n",
      "and then sending them off!\n",
      "\n",
      "Whether you're just in a moment of passion, feeling inspired \n",
      "Whether you're just in a moment of passion, feeling inspired \n",
      "\n",
      "to personify a modern Romeo and Juliet (without dying),\n",
      "to personify a modern Romeo and Juliet (without dying),\n",
      "\n",
      "or you don't think your partner hears this stuff enough,\n",
      "or you don't think your partner hears this stuff enough,\n",
      "\n",
      "little love poems are the simplest way to inject some extra\n",
      "little love poems are the simplest way to inject some extra\n",
      "\n",
      "romance into your everyday life\n",
      "romance into your everyday life\n",
      "\n",
      "Don't be shy, and let yourself be ooey-gooey! These short love\n",
      "Don't be shy, and let yourself be ooey-gooey! These short love\n",
      "\n",
      " poems should do the trick. (Try sending them by text for sweet surprise!)\n",
      " poems should do the trick. (Try sending them by text for sweet surprise!)\n",
      "\n",
      "Super..........!.......This is the beautiful Poem....!Super..........!.......This is the beautiful Poem....!\n"
     ]
    }
   ],
   "source": [
    "def Append_two(file1,fle2):\n",
    "    f1=open(\"Poem.txt\")\n",
    "    f2=open(\"abc.txt\")\n",
    "    for l1,l2 in zip(f1,f2):\n",
    "        print(l1+l2)\n",
    "        \n",
    "       \n",
    "Append_two(\"Poem.txt\",\"abc.txt\")"
   ]
  },
  {
   "cell_type": "code",
   "execution_count": 63,
   "metadata": {},
   "outputs": [
    {
     "name": "stdout",
     "output_type": "stream",
     "text": [
      "!.......... What a beautiful Poem..........!\n"
     ]
    }
   ],
   "source": [
    "import random\n",
    "def Random_line(fname):\n",
    "    \n",
    "    f=open(\"Poem.txt\").read().splitlines()\n",
    "    return random.choice(f)\n",
    "print(Random_line(\"Poem.txt\"))\n"
   ]
  },
  {
   "cell_type": "code",
   "execution_count": 64,
   "metadata": {},
   "outputs": [
    {
     "ename": "AttributeError",
     "evalue": "'str' object has no attribute 'closed'",
     "output_type": "error",
     "traceback": [
      "\u001b[1;31m---------------------------------------------------------------------------\u001b[0m",
      "\u001b[1;31mAttributeError\u001b[0m                            Traceback (most recent call last)",
      "\u001b[1;32m<ipython-input-64-67763f3070bc>\u001b[0m in \u001b[0;36m<module>\u001b[1;34m\u001b[0m\n\u001b[1;32m----> 1\u001b[1;33m \u001b[0mprint\u001b[0m\u001b[1;33m(\u001b[0m\u001b[0mf\u001b[0m\u001b[1;33m.\u001b[0m\u001b[0mclosed\u001b[0m\u001b[1;33m)\u001b[0m\u001b[1;33m\u001b[0m\u001b[1;33m\u001b[0m\u001b[0m\n\u001b[0m",
      "\u001b[1;31mAttributeError\u001b[0m: 'str' object has no attribute 'closed'"
     ]
    }
   ],
   "source": [
    "print(f.closed)"
   ]
  },
  {
   "cell_type": "code",
   "execution_count": 56,
   "metadata": {},
   "outputs": [],
   "source": [
    "f=open(\"Poem.txt\").read()"
   ]
  },
  {
   "cell_type": "code",
   "execution_count": 60,
   "metadata": {},
   "outputs": [
    {
     "name": "stdout",
     "output_type": "stream",
     "text": [
      "!.......... What a beautiful Poem..........!\n",
      "!.......... What a beautiful Poem..........!\n",
      "Who doesn't like being romanced every now and again? \n",
      "It's the little things that count, and what better way \n",
      "to show a little love than sending some little love \n",
      "poems to that special person in your life?\n",
      "This is especially good if you're dating, say,\n",
      "an English major, or generally anyone that loves the \n",
      "art of words and the lovely and silly ways they can all\n",
      "be strung together.\n",
      "And if you're not exactly the best at stringing said words, \n",
      "there's nothing wrong with finding them online or in a book \n",
      "and then sending them off!\n",
      "Whether you're just in a moment of passion, feeling inspired \n",
      "to personify a modern Romeo and Juliet (without dying),\n",
      "or you don't think your partner hears this stuff enough,\n",
      "little love poems are the simplest way to inject some extra\n",
      "romance into your everyday life\n",
      "Don't be shy, and let yourself be ooey-gooey! These short love\n",
      " poems should do the trick. (Try sending them by text for sweet surprise!)\n",
      "Super..........!.......This is the beautiful Poem....!\n"
     ]
    }
   ],
   "source": [
    "print(f)\n"
   ]
  },
  {
   "cell_type": "code",
   "execution_count": 68,
   "metadata": {},
   "outputs": [
    {
     "name": "stdout",
     "output_type": "stream",
     "text": [
      "False\n",
      "True\n"
     ]
    }
   ],
   "source": [
    "f=open(\"Poem.txt\")\n",
    "print(f.closed)\n",
    "f.close()\n",
    "print(f.closed)\n"
   ]
  },
  {
   "cell_type": "markdown",
   "metadata": {},
   "source": [
    "# Remove newline (\\n) from the file"
   ]
  },
  {
   "cell_type": "code",
   "execution_count": 88,
   "metadata": {},
   "outputs": [
    {
     "name": "stdout",
     "output_type": "stream",
     "text": [
      "['!.......... What a beautiful Poem..........!']\n"
     ]
    }
   ],
   "source": [
    "def Remove_newline(fname):\n",
    "    f=open(fname).readlines()\n",
    "    for x in f:\n",
    "         return [x.rstrip('\\n')]\n",
    "print(Remove_newline(\"Poem.txt\"))\n",
    "        \n"
   ]
  },
  {
   "cell_type": "code",
   "execution_count": 93,
   "metadata": {},
   "outputs": [
    {
     "name": "stdout",
     "output_type": "stream",
     "text": [
      "['!.......... What a beautiful Poem..........!', '!.......... What a beautiful Poem..........!', \"Who doesn't like being romanced every now and again?\", \"It's the little things that count, and what better way\", 'to show a little love than sending some little love', 'poems to that special person in your life?', \"This is especially good if you're dating, say,\", 'an English major, or generally anyone that loves the', 'art of words and the lovely and silly ways they can all', 'be strung together.', \"And if you're not exactly the best at stringing said words,\", \"there's nothing wrong with finding them online or in a book\", 'and then sending them off!', \"Whether you're just in a moment of passion, feeling inspired\", 'to personify a modern Romeo and Juliet (without dying),', \"or you don't think your partner hears this stuff enough,\", 'little love poems are the simplest way to inject some extra', 'romance into your everyday life', \"Don't be shy, and let yourself be ooey-gooey! These short love\", ' poems should do the trick. (Try sending them by text for sweet surprise!)', 'Super..........!.......This is the beautiful Poem....!']\n"
     ]
    }
   ],
   "source": [
    "def remove_nl(fname):\n",
    "    file=open(fname).readlines()\n",
    "    return [s.rstrip(' \\n') for s in file]\n",
    "print(remove_nl(\"abc.txt\"))"
   ]
  },
  {
   "cell_type": "code",
   "execution_count": 84,
   "metadata": {},
   "outputs": [],
   "source": [
    "op=open('Poem.txt').read()\n",
    "print(op)\n"
   ]
  },
  {
   "cell_type": "markdown",
   "metadata": {},
   "source": [
    "# Count the total number of words in a file"
   ]
  },
  {
   "cell_type": "code",
   "execution_count": 94,
   "metadata": {},
   "outputs": [
    {
     "name": "stdout",
     "output_type": "stream",
     "text": [
      "168\n"
     ]
    }
   ],
   "source": [
    "def count_words(filepath):\n",
    "   with open(filepath) as f:\n",
    "       data = f.read()\n",
    "       data.replace(\",\", \" \")\n",
    "       return len(data.split(\" \"))\n",
    "print(count_words(\"abc.txt\"))"
   ]
  },
  {
   "cell_type": "code",
   "execution_count": 95,
   "metadata": {},
   "outputs": [
    {
     "name": "stdout",
     "output_type": "stream",
     "text": [
      "[\"!.......... What a beautiful Poem..........!\\n!.......... What a beautiful Poem..........!\\nWho doesn't like being romanced every now and again? \\nIt's the little things that count, and what better way \\nto show a little love than sending some little love \\npoems to that special person in your life?\\nThis is especially good if you're dating, say,\\nan English major, or generally anyone that loves the \\nart of words and the lovely and silly ways they can all\\nbe strung together.\\nAnd if you're not exactly the best at stringing said words, \\nthere's nothing wrong with finding them online or in a book \\nand then sending them off!\\nWhether you're just in a moment of passion, feeling inspired \\nto personify a modern Romeo and Juliet (without dying),\\nor you don't think your partner hears this stuff enough,\\nlittle love poems are the simplest way to inject some extra\\nromance into your everyday life\\nDon't be shy, and let yourself be ooey-gooey! These short love\\n poems should do the trick. (Try sending them by text for sweet surprise!)\\nSuper..........!.......This is the beautiful Poem....!\", \"ÿþB\\x00i\\x00t\\x00L\\x00o\\x00c\\x00k\\x00e\\x00r\\x00 \\x00D\\x00r\\x00i\\x00v\\x00e\\x00 \\x00E\\x00n\\x00c\\x00r\\x00y\\x00p\\x00t\\x00i\\x00o\\x00n\\x00 \\x00r\\x00e\\x00c\\x00o\\x00v\\x00e\\x00r\\x00y\\x00 \\x00k\\x00e\\x00y\\x00\\x00\\x00\\n\\x00\\n\\x00\\n\\x00\\n\\x00T\\x00o\\x00 \\x00v\\x00e\\x00r\\x00i\\x00f\\x00y\\x00 \\x00t\\x00h\\x00a\\x00t\\x00 \\x00t\\x00h\\x00i\\x00s\\x00 \\x00i\\x00s\\x00 \\x00t\\x00h\\x00e\\x00 \\x00c\\x00o\\x00r\\x00r\\x00e\\x00c\\x00t\\x00 \\x00r\\x00e\\x00c\\x00o\\x00v\\x00e\\x00r\\x00y\\x00 \\x00k\\x00e\\x00y\\x00,\\x00 \\x00c\\x00o\\x00m\\x00p\\x00a\\x00r\\x00e\\x00 \\x00t\\x00h\\x00e\\x00 \\x00s\\x00t\\x00a\\x00r\\x00t\\x00 \\x00o\\x00f\\x00 \\x00t\\x00h\\x00e\\x00 \\x00f\\x00o\\x00l\\x00l\\x00o\\x00w\\x00i\\x00n\\x00g\\x00 \\x00i\\x00d\\x00e\\x00n\\x00t\\x00i\\x00f\\x00i\\x00e\\x00r\\x00 \\x00w\\x00i\\x00t\\x00h\\x00 \\x00t\\x00h\\x00e\\x00 \\x00i\\x00d\\x00e\\x00n\\x00t\\x00i\\x00f\\x00i\\x00e\\x00r\\x00 \\x00v\\x00a\\x00l\\x00u\\x00e\\x00 \\x00d\\x00i\\x00s\\x00p\\x00l\\x00a\\x00y\\x00e\\x00d\\x00 \\x00o\\x00n\\x00 \\x00y\\x00o\\x00u\\x00r\\x00 \\x00P\\x00C\\x00.\\x00\\n\\x00\\n\\x00\\n\\x00\\n\\x00I\\x00d\\x00e\\x00n\\x00t\\x00i\\x00f\\x00i\\x00e\\x00r\\x00:\\x00\\n\\x00\\n\\x00\\n\\x00\\n\\x00\\t\\x00E\\x00C\\x009\\x00A\\x000\\x006\\x00A\\x003\\x00-\\x003\\x006\\x004\\x005\\x00-\\x004\\x00B\\x001\\x007\\x00-\\x009\\x00C\\x002\\x004\\x00-\\x003\\x006\\x00B\\x006\\x00D\\x00C\\x003\\x000\\x003\\x00B\\x002\\x002\\x00\\n\\x00\\n\\x00\\n\\x00\\n\\x00I\\x00f\\x00 \\x00t\\x00h\\x00e\\x00 \\x00a\\x00b\\x00o\\x00v\\x00e\\x00 \\x00i\\x00d\\x00e\\x00n\\x00t\\x00i\\x00f\\x00i\\x00e\\x00r\\x00 \\x00m\\x00a\\x00t\\x00c\\x00h\\x00e\\x00s\\x00 \\x00t\\x00h\\x00e\\x00 \\x00o\\x00n\\x00e\\x00 \\x00d\\x00i\\x00s\\x00p\\x00l\\x00a\\x00y\\x00e\\x00d\\x00 \\x00b\\x00y\\x00 \\x00y\\x00o\\x00u\\x00r\\x00 \\x00P\\x00C\\x00,\\x00 \\x00t\\x00h\\x00e\\x00n\\x00 \\x00u\\x00s\\x00e\\x00 \\x00t\\x00h\\x00e\\x00 \\x00f\\x00o\\x00l\\x00l\\x00o\\x00w\\x00i\\x00n\\x00g\\x00 \\x00k\\x00e\\x00y\\x00 \\x00t\\x00o\\x00 \\x00u\\x00n\\x00l\\x00o\\x00c\\x00k\\x00 \\x00y\\x00o\\x00u\\x00r\\x00 \\x00d\\x00r\\x00i\\x00v\\x00e\\x00.\\x00\\n\\x00\\n\\x00\\n\\x00\\n\\x00R\\x00e\\x00c\\x00o\\x00v\\x00e\\x00r\\x00y\\x00 \\x00K\\x00e\\x00y\\x00:\\x00\\n\\x00\\n\\x00\\n\\x00\\n\\x00\\t\\x002\\x005\\x004\\x008\\x005\\x009\\x00-\\x004\\x004\\x009\\x005\\x003\\x007\\x00-\\x003\\x005\\x006\\x002\\x003\\x005\\x00-\\x002\\x001\\x001\\x003\\x004\\x003\\x00-\\x001\\x009\\x001\\x002\\x009\\x000\\x00-\\x002\\x009\\x003\\x007\\x003\\x003\\x00-\\x004\\x008\\x002\\x004\\x006\\x000\\x00-\\x002\\x008\\x005\\x004\\x001\\x007\\x00\\n\\x00\\n\\x00\\n\\x00\\n\\x00I\\x00f\\x00 \\x00t\\x00h\\x00e\\x00 \\x00a\\x00b\\x00o\\x00v\\x00e\\x00 \\x00i\\x00d\\x00e\\x00n\\x00t\\x00i\\x00f\\x00i\\x00e\\x00r\\x00 \\x00d\\x00o\\x00e\\x00s\\x00n\\x00'\\x00t\\x00 \\x00m\\x00a\\x00t\\x00c\\x00h\\x00 \\x00t\\x00h\\x00e\\x00 \\x00o\\x00n\\x00e\\x00 \\x00d\\x00i\\x00s\\x00p\\x00l\\x00a\\x00y\\x00e\\x00d\\x00 \\x00b\\x00y\\x00 \\x00y\\x00o\\x00u\\x00r\\x00 \\x00P\\x00C\\x00,\\x00 \\x00t\\x00h\\x00e\\x00n\\x00 \\x00t\\x00h\\x00i\\x00s\\x00 \\x00i\\x00s\\x00n\\x00'\\x00t\\x00 \\x00t\\x00h\\x00e\\x00 \\x00r\\x00i\\x00g\\x00h\\x00t\\x00 \\x00k\\x00e\\x00y\\x00 \\x00t\\x00o\\x00 \\x00u\\x00n\\x00l\\x00o\\x00c\\x00k\\x00 \\x00y\\x00o\\x00u\\x00r\\x00 \\x00d\\x00r\\x00i\\x00v\\x00e\\x00.\\x00\\n\\x00\\n\\x00T\\x00r\\x00y\\x00 \\x00a\\x00n\\x00o\\x00t\\x00h\\x00e\\x00r\\x00 \\x00r\\x00e\\x00c\\x00o\\x00v\\x00e\\x00r\\x00y\\x00 \\x00k\\x00e\\x00y\\x00,\\x00 \\x00o\\x00r\\x00 \\x00r\\x00e\\x00f\\x00e\\x00r\\x00 \\x00t\\x00o\\x00 \\x00h\\x00t\\x00t\\x00p\\x00s\\x00:\\x00/\\x00/\\x00g\\x00o\\x00.\\x00m\\x00i\\x00c\\x00r\\x00o\\x00s\\x00o\\x00f\\x00t\\x00.\\x00c\\x00o\\x00m\\x00/\\x00f\\x00w\\x00l\\x00i\\x00n\\x00k\\x00/\\x00?\\x00L\\x00i\\x00n\\x00k\\x00I\\x00D\\x00=\\x002\\x006\\x000\\x005\\x008\\x009\\x00 \\x00f\\x00o\\x00r\\x00 \\x00a\\x00d\\x00d\\x00i\\x00t\\x00i\\x00o\\x00n\\x00a\\x00l\\x00 \\x00a\\x00s\\x00s\\x00i\\x00s\\x00t\\x00a\\x00n\\x00c\\x00e\\x00.\\x00\\n\\x00\\n\\x00\\n\\x00\\n\\x00\", \"!.......... What a beautiful Poem..........!\\n!.......... What a beautiful Poem..........!\\nWho doesn't like being romanced every now and again? \\nIt's the little things that count, and what better way \\nto show a little love than sending some little love \\npoems to that special person in your life?\\nThis is especially good if you're dating, say,\\nan English major, or generally anyone that loves the \\nart of words and the lovely and silly ways they can all\\nbe strung together.\\nAnd if you're not exactly the best at stringing said words, \\nthere's nothing wrong with finding them online or in a book \\nand then sending them off!\\nWhether you're just in a moment of passion, feeling inspired \\nto personify a modern Romeo and Juliet (without dying),\\nor you don't think your partner hears this stuff enough,\\nlittle love poems are the simplest way to inject some extra\\nromance into your everyday life\\nDon't be shy, and let yourself be ooey-gooey! These short love\\n poems should do the trick. (Try sending them by text for sweet surprise!)\\nSuper..........!.......This is the beautiful Poem....!\"]\n"
     ]
    }
   ],
   "source": [
    "import glob\n",
    "char_list = []\n",
    "files_list = glob.glob(\"*.txt\")\n",
    "for file_elem in files_list:\n",
    "   with open(file_elem, \"r\") as f:\n",
    "       char_list.append(f.read())\n",
    "print(char_list)"
   ]
  },
  {
   "cell_type": "code",
   "execution_count": 96,
   "metadata": {},
   "outputs": [],
   "source": [
    "import string, os\n",
    "if not os.path.exists(\"letters\"):\n",
    "   os.makedirs(\"letters\")\n",
    "for letter in string.ascii_uppercase:\n",
    "   with open(letter + \".txt\", \"w\") as f:\n",
    "       f.writelines(letter)"
   ]
  },
  {
   "cell_type": "code",
   "execution_count": 98,
   "metadata": {},
   "outputs": [
    {
     "name": "stdout",
     "output_type": "stream",
     "text": [
      "None\n"
     ]
    }
   ],
   "source": [
    "import string\n",
    "def letters_file_line(n):\n",
    "   with open(\"Poem.txt\", \"w\") as f:\n",
    "       alphabet = string.ascii_uppercase\n",
    "       letters = [alphabet[i:i + n] + \"\\n\" for i in range(0, len(alphabet), n)]\n",
    "       f.writelines(letters)\n",
    "print(letters_file_line(3))"
   ]
  },
  {
   "cell_type": "code",
   "execution_count": null,
   "metadata": {},
   "outputs": [],
   "source": []
  },
  {
   "cell_type": "code",
   "execution_count": null,
   "metadata": {},
   "outputs": [],
   "source": []
  }
 ],
 "metadata": {
  "kernelspec": {
   "display_name": "Python 3",
   "language": "python",
   "name": "python3"
  },
  "language_info": {
   "codemirror_mode": {
    "name": "ipython",
    "version": 3
   },
   "file_extension": ".py",
   "mimetype": "text/x-python",
   "name": "python",
   "nbconvert_exporter": "python",
   "pygments_lexer": "ipython3",
   "version": "3.7.3"
  }
 },
 "nbformat": 4,
 "nbformat_minor": 2
}
