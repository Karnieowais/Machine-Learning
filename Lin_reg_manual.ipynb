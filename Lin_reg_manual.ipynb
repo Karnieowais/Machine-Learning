{
 "cells": [
  {
   "cell_type": "markdown",
   "metadata": {},
   "source": [
    "# Linear Regression\n",
    "\n",
    "\n",
    "In simple linear regression, we predict scores on one variable from the scores on a second variable. The variable we are predicting is called the criterion variable and is referred to as Y. The variable we are basing our predictions on is called the predictor variable and is referred to as X. When there is only one predictor variable, the prediction method is called simple regression. In simple linear regression, the topic of this section, the predictions of Y when plotted as a function of X form a straight line."
   ]
  },
  {
   "cell_type": "code",
   "execution_count": 1,
   "metadata": {},
   "outputs": [],
   "source": [
    "#importing the required libraries\n",
    "\n",
    "import pandas as pd  \n",
    "import numpy as np\n",
    "import matplotlib.pyplot as plt\n",
    "from datetime import date\n",
    "import time\n"
   ]
  },
  {
   "cell_type": "code",
   "execution_count": 2,
   "metadata": {},
   "outputs": [],
   "source": [
    "\n",
    "#loading the data set for applying linear regression\n",
    "#Births.csv is a CSV file which contains the data\n",
    "data = pd.read_csv('Births.csv')\n"
   ]
  },
  {
   "cell_type": "code",
   "execution_count": 3,
   "metadata": {},
   "outputs": [
    {
     "data": {
      "text/html": [
       "<div>\n",
       "<style scoped>\n",
       "    .dataframe tbody tr th:only-of-type {\n",
       "        vertical-align: middle;\n",
       "    }\n",
       "\n",
       "    .dataframe tbody tr th {\n",
       "        vertical-align: top;\n",
       "    }\n",
       "\n",
       "    .dataframe thead th {\n",
       "        text-align: right;\n",
       "    }\n",
       "</style>\n",
       "<table border=\"1\" class=\"dataframe\">\n",
       "  <thead>\n",
       "    <tr style=\"text-align: right;\">\n",
       "      <th></th>\n",
       "      <th>geography type</th>\n",
       "      <th>code</th>\n",
       "      <th>description</th>\n",
       "      <th>2013</th>\n",
       "      <th>2014</th>\n",
       "      <th>2015</th>\n",
       "      <th>2016</th>\n",
       "      <th>2017</th>\n",
       "    </tr>\n",
       "  </thead>\n",
       "  <tbody>\n",
       "    <tr>\n",
       "      <th>0</th>\n",
       "      <td>Statistical_Area_2_18</td>\n",
       "      <td>100100</td>\n",
       "      <td>North Cape</td>\n",
       "      <td>12</td>\n",
       "      <td>15</td>\n",
       "      <td>18</td>\n",
       "      <td>18</td>\n",
       "      <td>15</td>\n",
       "    </tr>\n",
       "    <tr>\n",
       "      <th>1</th>\n",
       "      <td>Statistical_Area_2_19</td>\n",
       "      <td>100200</td>\n",
       "      <td>Rangaunu Harbour</td>\n",
       "      <td>39</td>\n",
       "      <td>33</td>\n",
       "      <td>33</td>\n",
       "      <td>30</td>\n",
       "      <td>24</td>\n",
       "    </tr>\n",
       "    <tr>\n",
       "      <th>2</th>\n",
       "      <td>Statistical_Area_2_20</td>\n",
       "      <td>100300</td>\n",
       "      <td>Inlets Far North District</td>\n",
       "      <td>0</td>\n",
       "      <td>0</td>\n",
       "      <td>0</td>\n",
       "      <td>0</td>\n",
       "      <td>0</td>\n",
       "    </tr>\n",
       "    <tr>\n",
       "      <th>3</th>\n",
       "      <td>Statistical_Area_2_21</td>\n",
       "      <td>100400</td>\n",
       "      <td>Karikari Peninsula</td>\n",
       "      <td>12</td>\n",
       "      <td>15</td>\n",
       "      <td>9</td>\n",
       "      <td>6</td>\n",
       "      <td>12</td>\n",
       "    </tr>\n",
       "    <tr>\n",
       "      <th>4</th>\n",
       "      <td>Statistical_Area_2_22</td>\n",
       "      <td>100500</td>\n",
       "      <td>Tangonge</td>\n",
       "      <td>18</td>\n",
       "      <td>3</td>\n",
       "      <td>15</td>\n",
       "      <td>9</td>\n",
       "      <td>18</td>\n",
       "    </tr>\n",
       "  </tbody>\n",
       "</table>\n",
       "</div>"
      ],
      "text/plain": [
       "          geography type    code                description  2013  2014  2015  \\\n",
       "0  Statistical_Area_2_18  100100                 North Cape    12    15    18   \n",
       "1  Statistical_Area_2_19  100200           Rangaunu Harbour    39    33    33   \n",
       "2  Statistical_Area_2_20  100300  Inlets Far North District     0     0     0   \n",
       "3  Statistical_Area_2_21  100400         Karikari Peninsula    12    15     9   \n",
       "4  Statistical_Area_2_22  100500                   Tangonge    18     3    15   \n",
       "\n",
       "   2016  2017  \n",
       "0    18    15  \n",
       "1    30    24  \n",
       "2     0     0  \n",
       "3     6    12  \n",
       "4     9    18  "
      ]
     },
     "execution_count": 3,
     "metadata": {},
     "output_type": "execute_result"
    }
   ],
   "source": [
    "#check the shape of our data set\n",
    "data.shape\n",
    "data.head()\n"
   ]
  },
  {
   "cell_type": "code",
   "execution_count": 5,
   "metadata": {},
   "outputs": [],
   "source": [
    "#Selects all rows from colum 7\n",
    "\n",
    "X = data.iloc[:, 6]\n",
    "\n",
    "#selects all the rows from colum as labels for the X \n",
    "\n",
    "Y = data.iloc[:, 7]\n",
    "\n",
    "plt.scatter(X, Y)   #plots the scattered graph for all the data points \n",
    "\n",
    "show() #Displays the scattered graph i-e displayed below"
   ]
  },
  {
   "cell_type": "code",
   "execution_count": null,
   "metadata": {},
   "outputs": [],
   "source": []
  },
  {
   "cell_type": "code",
   "execution_count": 72,
   "metadata": {},
   "outputs": [
    {
     "name": "stdout",
     "output_type": "stream",
     "text": [
      "0.9517340870209577 1.425404487145034\n"
     ]
    }
   ],
   "source": [
    "# Building the model\n",
    "\n",
    "X_mean = np.mean(X)    #calculates the mean for column 7 values i-e for X\n",
    "\n",
    "Y_mean = np.mean(Y)    #calculates the mean for  column 8 values i-e for Y\n",
    "\n",
    "num = 0  #Numerator in Squared erroe Equation\n",
    "den = 0  #Denomerator in Squared erroe Equation\n",
    "for i in range(len(X)):\n",
    "    \n",
    "    num += (X[i] - X_mean)*(Y[i] - Y_mean)    #calculation of numerator\n",
    "    den += (X[i] - X_mean)**2                 #calculation of denomerator\n",
    "\n",
    "m = num / den\n",
    "\n",
    "\n",
    "#Minimization of error i-e C = Y(mean) - M * X(mean)\n",
    "\n",
    "c = Y_mean - m*X_mean\n",
    "\n",
    "print (m, c)"
   ]
  },
  {
   "cell_type": "code",
   "execution_count": 73,
   "metadata": {},
   "outputs": [
    {
     "name": "stdout",
     "output_type": "stream",
     "text": [
      "The Date right now is ..... 2020-03-04\n",
      "The time right now is ..... 16:55:02\n"
     ]
    },
    {
     "data": {
      "image/png": "[encoded data removed]",
      "text/plain": [
       "<Figure size 864x648 with 1 Axes>"
      ]
     },
     "metadata": {
      "needs_background": "light"
     },
     "output_type": "display_data"
    }
   ],
   "source": [
    "print(\"The Date right now is .....\",date.today())\n",
    "\n",
    "x=datetime.datetime.now()\n",
    "print(\"The time right now is .....\", x.strftime('%X'))\n",
    "\n",
    "# Making predictions\n",
    "Y_pred = m*X + c\n",
    "\n",
    "plt.scatter(X, Y) # actual graph for X and Y\n",
    "\n",
    "# plt.scatter(X, Y_pred, color='red')\n",
    "\n",
    "plt.plot([min(X), max(X)], [min(Y_pred), max(Y_pred)], color='red') # predicted\n",
    "\n",
    "plt.show()"
   ]
  },
  {
   "cell_type": "code",
   "execution_count": null,
   "metadata": {},
   "outputs": [],
   "source": []
  }
 ],
 "metadata": {
  "kernelspec": {
   "display_name": "Python 3",
   "language": "python",
   "name": "python3"
  },
  "language_info": {
   "codemirror_mode": {
    "name": "ipython",
    "version": 3
   },
   "file_extension": ".py",
   "mimetype": "text/x-python",
   "name": "python",
   "nbconvert_exporter": "python",
   "pygments_lexer": "ipython3",
   "version": "3.7.3"
  }
 },
 "nbformat": 4,
 "nbformat_minor": 2
}
