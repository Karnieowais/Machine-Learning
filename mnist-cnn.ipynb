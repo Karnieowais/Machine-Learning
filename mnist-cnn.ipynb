{
 "cells": [
  {
   "cell_type": "code",
   "execution_count": 1,
   "metadata": {},
   "outputs": [],
   "source": [
    "import matplotlib.pyplot as plt\n",
    "import numpy as np\n",
    "\n",
    "import tensorflow as tf\n",
    "mnist = tf.keras.datasets.mnist"
   ]
  },
  {
   "cell_type": "code",
   "execution_count": 2,
   "metadata": {},
   "outputs": [
    {
     "name": "stdout",
     "output_type": "stream",
     "text": [
      "Downloading data from https://storage.googleapis.com/tensorflow/tf-keras-datasets/mnist.npz\n",
      "11493376/11490434 [==============================] - 2s 0us/step\n"
     ]
    }
   ],
   "source": [
    "(x_train, y_train), (x_test, y_test) = mnist.load_data()\n"
   ]
  },
  {
   "cell_type": "code",
   "execution_count": 10,
   "metadata": {},
   "outputs": [
    {
     "data": {
      "image/png": "[encoded data removed]",
      "text/plain": [
       "<Figure size 432x288 with 1 Axes>"
      ]
     },
     "metadata": {
      "needs_background": "light"
     },
     "output_type": "display_data"
    }
   ],
   "source": [
    "plt.imshow(x_train[1])\n",
    "plt.show()"
   ]
  },
  {
   "cell_type": "code",
   "execution_count": null,
   "metadata": {},
   "outputs": [],
   "source": [
    "print(x_train[10])"
   ]
  },
  {
   "cell_type": "code",
   "execution_count": 12,
   "metadata": {},
   "outputs": [
    {
     "data": {
      "image/png": "[encoded data removed]",
      "text/plain": [
       "<Figure size 432x288 with 1 Axes>"
      ]
     },
     "metadata": {
      "needs_background": "light"
     },
     "output_type": "display_data"
    }
   ],
   "source": [
    "#changing the colour image to binary image i-e to grey image\n",
    "plt.imshow(x_train[10], cmap = plt.cm.binary)\n",
    "plt.show()\n"
   ]
  },
  {
   "cell_type": "code",
   "execution_count": 13,
   "metadata": {},
   "outputs": [],
   "source": [
    "#Normalize the images to same scale\n",
    "x_train= tf.keras.utils.normalize(x_train, axis=1)\n",
    "x_test= tf.keras.utils.normalize(x_test, axis=1)"
   ]
  },
  {
   "cell_type": "code",
   "execution_count": 19,
   "metadata": {},
   "outputs": [
    {
     "name": "stdout",
     "output_type": "stream",
     "text": [
      "Train on 60000 samples\n",
      "Epoch 1/3\n",
      "60000/60000 [==============================] - 16s 267us/sample - loss: 0.2702 - accuracy: 0.9208\n",
      "Epoch 2/3\n",
      "60000/60000 [==============================] - 12s 198us/sample - loss: 0.1118 - accuracy: 0.9656\n",
      "Epoch 3/3\n",
      "60000/60000 [==============================] - 12s 205us/sample - loss: 0.0741 - accuracy: 0.9768\n"
     ]
    },
    {
     "data": {
      "text/plain": [
       "<tensorflow.python.keras.callbacks.History at 0x287c5be91d0>"
      ]
     },
     "execution_count": 19,
     "metadata": {},
     "output_type": "execute_result"
    }
   ],
   "source": [
    "#bulit model\n",
    "\n",
    "model = tf.keras.models.Sequential()\n",
    "model.add(tf.keras.layers.Flatten())\n",
    "model.add(tf.keras.layers.Dense(128, activation = tf.nn.relu))\n",
    "model.add(tf.keras.layers.Dense(128, activation = tf.nn.relu))\n",
    "model.add(tf.keras.layers.Dense(10, activation = tf.nn.softmax))\n",
    "\n",
    "\n",
    "model.compile(optimizer='adam', loss ='sparse_categorical_crossentropy', metrics = ['accuracy'] )\n",
    "\n",
    "\n",
    "#training the model\n",
    "model.fit(x_train, y_train, epochs = 3)"
   ]
  },
  {
   "cell_type": "code",
   "execution_count": 38,
   "metadata": {},
   "outputs": [
    {
     "name": "stdout",
     "output_type": "stream",
     "text": [
      "10000/10000 [==============================] - 1s 111us/sample - loss: 0.0914 - accuracy: 0.9719\n",
      "The validation loss is :  9.140335564524866\n",
      "the validatio accuracy is :  97.18999862670898\n"
     ]
    }
   ],
   "source": [
    "#validating the model \n",
    "val_loss, val_acc = model.evaluate(x_test, y_test)\n",
    "print(\"The validation loss is : \",val_loss * 100)\n",
    "print(\"the validatio accuracy is : \", val_acc * 100)"
   ]
  },
  {
   "cell_type": "code",
   "execution_count": 22,
   "metadata": {},
   "outputs": [
    {
     "name": "stdout",
     "output_type": "stream",
     "text": [
      "WARNING:tensorflow:From C:\\Users\\LOOSER\\Anaconda3\\lib\\site-packages\\tensorflow_core\\python\\ops\\resource_variable_ops.py:1786: calling BaseResourceVariable.__init__ (from tensorflow.python.ops.resource_variable_ops) with constraint is deprecated and will be removed in a future version.\n",
      "Instructions for updating:\n",
      "If using Keras pass *_constraint arguments to layers.\n",
      "INFO:tensorflow:Assets written to: mnist_cnn.model\\assets\n"
     ]
    }
   ],
   "source": [
    "#save the trained model so that we do not need to\n",
    "#train our model again and again\n",
    "\n",
    "model.save('mnist_cnn.model')"
   ]
  },
  {
   "cell_type": "code",
   "execution_count": 28,
   "metadata": {},
   "outputs": [],
   "source": [
    "# now load the saved model and predict some values\n",
    "\n",
    "new_model = tf.keras.models.load_model('mnist_cnn.model')\n",
    "\n",
    "\n",
    "predections = new_model.predict(x_test)"
   ]
  },
  {
   "cell_type": "code",
   "execution_count": 29,
   "metadata": {},
   "outputs": [
    {
     "name": "stdout",
     "output_type": "stream",
     "text": [
      "[[1.6799998e-09 9.1860697e-09 1.8192791e-06 ... 9.9999177e-01\n",
      "  8.5806695e-09 6.1418824e-08]\n",
      " [7.7732565e-08 6.1170041e-04 9.9938762e-01 ... 7.9191047e-08\n",
      "  3.4869476e-08 2.9870710e-11]\n",
      " [6.3005596e-09 9.9983227e-01 1.1869378e-05 ... 1.6086489e-05\n",
      "  1.3391180e-04 2.4115792e-07]\n",
      " ...\n",
      " [1.6715864e-09 1.0214472e-07 7.7223561e-08 ... 1.6591241e-05\n",
      "  1.4845842e-06 4.0599843e-04]\n",
      " [2.4721655e-06 3.7443533e-06 1.9102002e-07 ... 4.0434000e-07\n",
      "  1.9957700e-04 3.1667096e-08]\n",
      " [4.7253679e-06 1.0306948e-07 5.1778970e-06 ... 6.3628165e-11\n",
      "  2.5799016e-08 2.0124549e-08]]\n"
     ]
    }
   ],
   "source": [
    "print(predections)"
   ]
  },
  {
   "cell_type": "code",
   "execution_count": 33,
   "metadata": {},
   "outputs": [
    {
     "name": "stdout",
     "output_type": "stream",
     "text": [
      "0\n"
     ]
    }
   ],
   "source": [
    "print(np.argmax(predections[10]))"
   ]
  },
  {
   "cell_type": "code",
   "execution_count": 35,
   "metadata": {},
   "outputs": [
    {
     "data": {
      "image/png": "[encoded data removed]",
      "text/plain": [
       "<Figure size 432x288 with 1 Axes>"
      ]
     },
     "metadata": {
      "needs_background": "light"
     },
     "output_type": "display_data"
    }
   ],
   "source": [
    "plt.imshow(x_test[10])\n",
    "plt.show()"
   ]
  },
  {
   "cell_type": "code",
   "execution_count": null,
   "metadata": {},
   "outputs": [],
   "source": []
  }
 ],
 "metadata": {
  "kernelspec": {
   "display_name": "Python 3",
   "language": "python",
   "name": "python3"
  },
  "language_info": {
   "codemirror_mode": {
    "name": "ipython",
    "version": 3
   },
   "file_extension": ".py",
   "mimetype": "text/x-python",
   "name": "python",
   "nbconvert_exporter": "python",
   "pygments_lexer": "ipython3",
   "version": "3.7.3"
  }
 },
 "nbformat": 4,
 "nbformat_minor": 4
}
